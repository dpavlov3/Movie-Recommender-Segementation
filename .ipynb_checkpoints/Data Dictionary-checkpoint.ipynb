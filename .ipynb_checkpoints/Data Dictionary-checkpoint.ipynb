{
 "cells": [
  {
   "cell_type": "markdown",
   "metadata": {},
   "source": [
    "## Data Dictionary\n",
    "\n",
    "#### Contains the [IMDb data dictionary](https://www.imdb.com/interfaces/)\n",
    "\n",
    "    -title.rating.csv 21.7MB\n",
    "    -name.basics.csv 548.5MB\n",
    "    -title.akas.csv 183.7MB\n",
    "    -title.basics.csv 663.1MB\n",
    "    -title.crew.csv 248MB\n",
    "    -title.episode.csv 135.1MB\n",
    "    -title.principal.csv 1.42GB\n"
   ]
  },
  {
   "cell_type": "markdown",
   "metadata": {},
   "source": [
    "### title.rating.csv – Contains the IMDb rating and votes information for titles\n",
    "\n",
    "|Feature|Type|Description|\n",
    "|---|---|---|\n",
    "|tconst|object|alphanumeric unique identifier of the title|\n",
    "|averageRating|float64|weighted average of all the individual user ratings|\n",
    "|numVotes|int64|number of votes the title has received|"
   ]
  },
  {
   "cell_type": "markdown",
   "metadata": {},
   "source": [
    "### name.basics.csv – Contains the following information for names:\n",
    "\n",
    "|Feature|Type|Description|\n",
    "|---|---|---|\n",
    "|nconst|object|alphanumeric unique identifier of the name/person|\n",
    "|primaryName|object|name by which the person is most often credited|\n",
    "|birthYear|object|in YYYY format|\n",
    "|deathYear|object|in YYYY format if applicable, else '\\N'|\n",
    "|primaryProfession|object|the top-3 professions of the person|\n",
    "|knownForTitles|object|titles the person is known for|\n"
   ]
  },
  {
   "cell_type": "markdown",
   "metadata": {},
   "source": [
    "### title.akas.csv\n",
    "\n",
    "|Feature|Type|Description|\n",
    "|---|---|---|\n",
    "|titleId|object|a tconst, an alphanumeric unique identifier of the title|\n",
    "|ordering|int64|a number to uniquely identify rows for a given titleId|\n",
    "|title|object|the localized title|\n",
    "|region|object|the region for this version of the title|\n",
    "|language|object|the language of the title|\n",
    "|types|object|Enumerated set of attributes for this alternative title. One or more of the following: \"alternative\", \"dvd\", \"festival\", \"tv\", \"video\", \"working\", \"original\", \"imdbDisplay\". New values may be added in the future without warning|\n",
    "|attributes|object|Additional terms to describe this alternative title, not enumerated|\n",
    "|isOriginalTitle|int64|0: not original title; 1: original title|"
   ]
  },
  {
   "cell_type": "markdown",
   "metadata": {},
   "source": [
    "### title.basics.csv - Contains the following information for titles:\n",
    "\n",
    "|Feature|Type|Description|\n",
    "|---|---|---|\n",
    "|tconst|object|alphanumeric unique identifier of the title|\n",
    "|titleType|object|the type/format of the title (e.g. movie, short, tvseries, tvepisode, video, etc)|\n",
    "|primaryTitle|object|the more popular title / the title used by the filmmakers on promotional materials at the point of release|\n",
    "|originalTitle|object|original title, in the original language|\n",
    "|isAdult|int64| 0: non-adult title; 1: adult title|\n",
    "|startYear|int64|represents the release year of a title. In the case of TV Series, it is the series start year|\n",
    "|endYear|object|TV Series end year. ‘\\N’ for all other title types|\n",
    "|runtimeMinutes|object|primary runtime of the title, in minutes|\n",
    "|genres|object|includes up to three genres associated with the title|"
   ]
  },
  {
   "cell_type": "markdown",
   "metadata": {},
   "source": [
    "### title.crew.csv – Contains the director and writer information for all the titles in IMDb. Fields include:\n",
    "\n",
    "|Feature|Type|Description|\n",
    "|---|---|---|\n",
    "|tconst|object|alphanumeric unique identifier of the title|\n",
    "|directors|object|director(s) of the given title|\n",
    "|writers|object|writer(s) of the given title|"
   ]
  },
  {
   "cell_type": "markdown",
   "metadata": {},
   "source": [
    "### title.episode.csv – Contains the tv episode information. Fields include:\n",
    "\n",
    "|Feature|Type|Description|\n",
    "|---|---|---|\n",
    "|tconst|object|alphanumeric identifier of episode|\n",
    "|parentTconst|object|alphanumeric identifier of the parent TV Series|\n",
    "|seasonNumber|object|season number the episode belongs to|\n",
    "|episodeNumber|object|episode number of the tconst in the TV series|"
   ]
  },
  {
   "cell_type": "markdown",
   "metadata": {},
   "source": [
    "### title.principal.csv\n",
    "\n",
    "|Feature|Type|Description|\n",
    "|---|---|---|\n",
    "|tconst|object|alphanumeric unique identifier of the title|\n",
    "|ordering|int64|a number to uniquely identify rows for a given titleId|\n",
    "|nconst|object|alphanumeric unique identifier of the name/person|\n",
    "|category|object|the category of job that person was in|\n",
    "|job|object|the specific job title if applicable, else '\\N'|\n",
    "|characters|object|the name of the character played if applicable, else '\\N'|"
   ]
  },
  {
   "cell_type": "code",
   "execution_count": null,
   "metadata": {},
   "outputs": [],
   "source": []
  }
 ],
 "metadata": {
  "kernelspec": {
   "display_name": "Python 3",
   "language": "python",
   "name": "python3"
  },
  "language_info": {
   "codemirror_mode": {
    "name": "ipython",
    "version": 3
   },
   "file_extension": ".py",
   "mimetype": "text/x-python",
   "name": "python",
   "nbconvert_exporter": "python",
   "pygments_lexer": "ipython3",
   "version": "3.6.6"
  }
 },
 "nbformat": 4,
 "nbformat_minor": 2
}
