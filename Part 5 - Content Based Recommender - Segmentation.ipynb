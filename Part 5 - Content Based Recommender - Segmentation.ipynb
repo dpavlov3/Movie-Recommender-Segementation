{
 "cells": [
  {
   "cell_type": "code",
   "execution_count": 19,
   "metadata": {},
   "outputs": [],
   "source": [
    "import matplotlib.pyplot as plt\n",
    "import numpy as np\n",
    "import pandas as pd\n",
    "import seaborn as sns\n",
    "\n",
    "# from scipy.cluster.hierarchy import dendrogram, linkage, cophenet, fcluster\n",
    "# from scipy.spatial.distance import pdist\n",
    "\n",
    "from sklearn.decomposition import PCA\n",
    "from sklearn.preprocessing import StandardScaler\n",
    "\n",
    "%matplotlib inline"
   ]
  },
  {
   "cell_type": "code",
   "execution_count": 20,
   "metadata": {},
   "outputs": [
    {
     "data": {
      "text/html": [
       "<div>\n",
       "<style scoped>\n",
       "    .dataframe tbody tr th:only-of-type {\n",
       "        vertical-align: middle;\n",
       "    }\n",
       "\n",
       "    .dataframe tbody tr th {\n",
       "        vertical-align: top;\n",
       "    }\n",
       "\n",
       "    .dataframe thead th {\n",
       "        text-align: right;\n",
       "    }\n",
       "</style>\n",
       "<table border=\"1\" class=\"dataframe\">\n",
       "  <thead>\n",
       "    <tr style=\"text-align: right;\">\n",
       "      <th></th>\n",
       "      <th>movieId</th>\n",
       "      <th>title</th>\n",
       "      <th>action_x</th>\n",
       "      <th>adventure_x</th>\n",
       "      <th>animation_x</th>\n",
       "      <th>children_x</th>\n",
       "      <th>comedy_x</th>\n",
       "      <th>crime_x</th>\n",
       "      <th>documentary_x</th>\n",
       "      <th>drama_x</th>\n",
       "      <th>...</th>\n",
       "      <th>world politics</th>\n",
       "      <th>world war i</th>\n",
       "      <th>world war ii</th>\n",
       "      <th>writer's life</th>\n",
       "      <th>writers</th>\n",
       "      <th>writing</th>\n",
       "      <th>wuxia</th>\n",
       "      <th>wwii</th>\n",
       "      <th>zombie</th>\n",
       "      <th>zombies</th>\n",
       "    </tr>\n",
       "  </thead>\n",
       "  <tbody>\n",
       "    <tr>\n",
       "      <th>0</th>\n",
       "      <td>1</td>\n",
       "      <td>Toy Story (1995)</td>\n",
       "      <td>0</td>\n",
       "      <td>1</td>\n",
       "      <td>1</td>\n",
       "      <td>1</td>\n",
       "      <td>1</td>\n",
       "      <td>0</td>\n",
       "      <td>0</td>\n",
       "      <td>0</td>\n",
       "      <td>...</td>\n",
       "      <td>0.03950</td>\n",
       "      <td>0.01800</td>\n",
       "      <td>0.04575</td>\n",
       "      <td>0.03275</td>\n",
       "      <td>0.1250</td>\n",
       "      <td>0.04150</td>\n",
       "      <td>0.01925</td>\n",
       "      <td>0.03625</td>\n",
       "      <td>0.07775</td>\n",
       "      <td>0.02300</td>\n",
       "    </tr>\n",
       "    <tr>\n",
       "      <th>1</th>\n",
       "      <td>2</td>\n",
       "      <td>Jumanji (1995)</td>\n",
       "      <td>0</td>\n",
       "      <td>1</td>\n",
       "      <td>0</td>\n",
       "      <td>1</td>\n",
       "      <td>0</td>\n",
       "      <td>0</td>\n",
       "      <td>0</td>\n",
       "      <td>0</td>\n",
       "      <td>...</td>\n",
       "      <td>0.04175</td>\n",
       "      <td>0.01925</td>\n",
       "      <td>0.01725</td>\n",
       "      <td>0.02425</td>\n",
       "      <td>0.1255</td>\n",
       "      <td>0.02250</td>\n",
       "      <td>0.01550</td>\n",
       "      <td>0.01475</td>\n",
       "      <td>0.09025</td>\n",
       "      <td>0.01875</td>\n",
       "    </tr>\n",
       "    <tr>\n",
       "      <th>2</th>\n",
       "      <td>3</td>\n",
       "      <td>Grumpier Old Men (1995)</td>\n",
       "      <td>0</td>\n",
       "      <td>0</td>\n",
       "      <td>0</td>\n",
       "      <td>0</td>\n",
       "      <td>1</td>\n",
       "      <td>0</td>\n",
       "      <td>0</td>\n",
       "      <td>0</td>\n",
       "      <td>...</td>\n",
       "      <td>0.04150</td>\n",
       "      <td>0.02675</td>\n",
       "      <td>0.02775</td>\n",
       "      <td>0.03425</td>\n",
       "      <td>0.1555</td>\n",
       "      <td>0.03675</td>\n",
       "      <td>0.01700</td>\n",
       "      <td>0.01950</td>\n",
       "      <td>0.09700</td>\n",
       "      <td>0.01850</td>\n",
       "    </tr>\n",
       "  </tbody>\n",
       "</table>\n",
       "<p>3 rows × 1166 columns</p>\n",
       "</div>"
      ],
      "text/plain": [
       "   movieId                    title  action_x  adventure_x  animation_x  \\\n",
       "0        1         Toy Story (1995)         0            1            1   \n",
       "1        2           Jumanji (1995)         0            1            0   \n",
       "2        3  Grumpier Old Men (1995)         0            0            0   \n",
       "\n",
       "   children_x  comedy_x  crime_x  documentary_x  drama_x   ...     \\\n",
       "0           1         1        0              0        0   ...      \n",
       "1           1         0        0              0        0   ...      \n",
       "2           0         1        0              0        0   ...      \n",
       "\n",
       "   world politics  world war i  world war ii  writer's life  writers  writing  \\\n",
       "0         0.03950      0.01800       0.04575        0.03275   0.1250  0.04150   \n",
       "1         0.04175      0.01925       0.01725        0.02425   0.1255  0.02250   \n",
       "2         0.04150      0.02675       0.02775        0.03425   0.1555  0.03675   \n",
       "\n",
       "     wuxia     wwii   zombie  zombies  \n",
       "0  0.01925  0.03625  0.07775  0.02300  \n",
       "1  0.01550  0.01475  0.09025  0.01875  \n",
       "2  0.01700  0.01950  0.09700  0.01850  \n",
       "\n",
       "[3 rows x 1166 columns]"
      ]
     },
     "execution_count": 20,
     "metadata": {},
     "output_type": "execute_result"
    }
   ],
   "source": [
    "df = pd.read_csv('data/movies_to_pca.csv')\n",
    "df.head(3)"
   ]
  },
  {
   "cell_type": "code",
   "execution_count": 21,
   "metadata": {},
   "outputs": [],
   "source": [
    "# Cleaning up data for PCA\n",
    "df = df.fillna(0)\n",
    "X = df.drop(columns = ['movieId', 'title'])"
   ]
  },
  {
   "cell_type": "code",
   "execution_count": 24,
   "metadata": {},
   "outputs": [
    {
     "data": {
      "text/html": [
       "<div>\n",
       "<style scoped>\n",
       "    .dataframe tbody tr th:only-of-type {\n",
       "        vertical-align: middle;\n",
       "    }\n",
       "\n",
       "    .dataframe tbody tr th {\n",
       "        vertical-align: top;\n",
       "    }\n",
       "\n",
       "    .dataframe thead th {\n",
       "        text-align: right;\n",
       "    }\n",
       "</style>\n",
       "<table border=\"1\" class=\"dataframe\">\n",
       "  <thead>\n",
       "    <tr style=\"text-align: right;\">\n",
       "      <th></th>\n",
       "      <th>action_x</th>\n",
       "      <th>adventure_x</th>\n",
       "      <th>animation_x</th>\n",
       "      <th>children_x</th>\n",
       "      <th>comedy_x</th>\n",
       "      <th>crime_x</th>\n",
       "      <th>documentary_x</th>\n",
       "      <th>drama_x</th>\n",
       "      <th>fantasy_x</th>\n",
       "      <th>horror_x</th>\n",
       "      <th>...</th>\n",
       "      <th>world politics</th>\n",
       "      <th>world war i</th>\n",
       "      <th>world war ii</th>\n",
       "      <th>writer's life</th>\n",
       "      <th>writers</th>\n",
       "      <th>writing</th>\n",
       "      <th>wuxia</th>\n",
       "      <th>wwii</th>\n",
       "      <th>zombie</th>\n",
       "      <th>zombies</th>\n",
       "    </tr>\n",
       "  </thead>\n",
       "  <tbody>\n",
       "    <tr>\n",
       "      <th>0</th>\n",
       "      <td>0</td>\n",
       "      <td>1</td>\n",
       "      <td>1</td>\n",
       "      <td>1</td>\n",
       "      <td>1</td>\n",
       "      <td>0</td>\n",
       "      <td>0</td>\n",
       "      <td>0</td>\n",
       "      <td>1</td>\n",
       "      <td>0</td>\n",
       "      <td>...</td>\n",
       "      <td>0.03950</td>\n",
       "      <td>0.01800</td>\n",
       "      <td>0.04575</td>\n",
       "      <td>0.03275</td>\n",
       "      <td>0.1250</td>\n",
       "      <td>0.04150</td>\n",
       "      <td>0.01925</td>\n",
       "      <td>0.03625</td>\n",
       "      <td>0.07775</td>\n",
       "      <td>0.02300</td>\n",
       "    </tr>\n",
       "    <tr>\n",
       "      <th>1</th>\n",
       "      <td>0</td>\n",
       "      <td>1</td>\n",
       "      <td>0</td>\n",
       "      <td>1</td>\n",
       "      <td>0</td>\n",
       "      <td>0</td>\n",
       "      <td>0</td>\n",
       "      <td>0</td>\n",
       "      <td>1</td>\n",
       "      <td>0</td>\n",
       "      <td>...</td>\n",
       "      <td>0.04175</td>\n",
       "      <td>0.01925</td>\n",
       "      <td>0.01725</td>\n",
       "      <td>0.02425</td>\n",
       "      <td>0.1255</td>\n",
       "      <td>0.02250</td>\n",
       "      <td>0.01550</td>\n",
       "      <td>0.01475</td>\n",
       "      <td>0.09025</td>\n",
       "      <td>0.01875</td>\n",
       "    </tr>\n",
       "    <tr>\n",
       "      <th>2</th>\n",
       "      <td>0</td>\n",
       "      <td>0</td>\n",
       "      <td>0</td>\n",
       "      <td>0</td>\n",
       "      <td>1</td>\n",
       "      <td>0</td>\n",
       "      <td>0</td>\n",
       "      <td>0</td>\n",
       "      <td>0</td>\n",
       "      <td>0</td>\n",
       "      <td>...</td>\n",
       "      <td>0.04150</td>\n",
       "      <td>0.02675</td>\n",
       "      <td>0.02775</td>\n",
       "      <td>0.03425</td>\n",
       "      <td>0.1555</td>\n",
       "      <td>0.03675</td>\n",
       "      <td>0.01700</td>\n",
       "      <td>0.01950</td>\n",
       "      <td>0.09700</td>\n",
       "      <td>0.01850</td>\n",
       "    </tr>\n",
       "  </tbody>\n",
       "</table>\n",
       "<p>3 rows × 1164 columns</p>\n",
       "</div>"
      ],
      "text/plain": [
       "   action_x  adventure_x  animation_x  children_x  comedy_x  crime_x  \\\n",
       "0         0            1            1           1         1        0   \n",
       "1         0            1            0           1         0        0   \n",
       "2         0            0            0           0         1        0   \n",
       "\n",
       "   documentary_x  drama_x  fantasy_x  horror_x   ...     world politics  \\\n",
       "0              0        0          1         0   ...            0.03950   \n",
       "1              0        0          1         0   ...            0.04175   \n",
       "2              0        0          0         0   ...            0.04150   \n",
       "\n",
       "   world war i  world war ii  writer's life  writers  writing    wuxia  \\\n",
       "0      0.01800       0.04575        0.03275   0.1250  0.04150  0.01925   \n",
       "1      0.01925       0.01725        0.02425   0.1255  0.02250  0.01550   \n",
       "2      0.02675       0.02775        0.03425   0.1555  0.03675  0.01700   \n",
       "\n",
       "      wwii   zombie  zombies  \n",
       "0  0.03625  0.07775  0.02300  \n",
       "1  0.01475  0.09025  0.01875  \n",
       "2  0.01950  0.09700  0.01850  \n",
       "\n",
       "[3 rows x 1164 columns]"
      ]
     },
     "execution_count": 24,
     "metadata": {},
     "output_type": "execute_result"
    }
   ],
   "source": [
    "X.head(3)"
   ]
  },
  {
   "cell_type": "code",
   "execution_count": 44,
   "metadata": {},
   "outputs": [
    {
     "name": "stderr",
     "output_type": "stream",
     "text": [
      "/Users/dmitriy/anaconda3/lib/python3.6/site-packages/sklearn/preprocessing/data.py:625: DataConversionWarning: Data with input dtype int64, float64 were all converted to float64 by StandardScaler.\n",
      "  return self.partial_fit(X, y)\n",
      "/Users/dmitriy/anaconda3/lib/python3.6/site-packages/ipykernel_launcher.py:5: DataConversionWarning: Data with input dtype int64, float64 were all converted to float64 by StandardScaler.\n",
      "  \"\"\"\n"
     ]
    }
   ],
   "source": [
    "# Scale the data\n",
    "ss = StandardScaler()\n",
    "ss.fit(X)\n",
    "\n",
    "X_s = ss.transform(X)"
   ]
  },
  {
   "cell_type": "code",
   "execution_count": 45,
   "metadata": {},
   "outputs": [],
   "source": [
    "# Initiating PCA and tranforming the data\n",
    "pca = PCA()\n",
    "pca.fit(X_s)\n",
    "\n",
    "X_pca = pca.transform(X)\n",
    "X_pca = pd.DataFrame(X_pca)"
   ]
  },
  {
   "cell_type": "code",
   "execution_count": 46,
   "metadata": {},
   "outputs": [
    {
     "data": {
      "text/plain": [
       "(27278, 1164)"
      ]
     },
     "execution_count": 46,
     "metadata": {},
     "output_type": "execute_result"
    }
   ],
   "source": [
    "X_pca.shape"
   ]
  },
  {
   "cell_type": "code",
   "execution_count": 47,
   "metadata": {},
   "outputs": [],
   "source": [
    "# Creating column names for the PCA dataframe\n",
    "X_pca.columns = [f'component {i}' for i in range(1,1165)]"
   ]
  },
  {
   "cell_type": "code",
   "execution_count": 48,
   "metadata": {},
   "outputs": [
    {
     "data": {
      "text/html": [
       "<div>\n",
       "<style scoped>\n",
       "    .dataframe tbody tr th:only-of-type {\n",
       "        vertical-align: middle;\n",
       "    }\n",
       "\n",
       "    .dataframe tbody tr th {\n",
       "        vertical-align: top;\n",
       "    }\n",
       "\n",
       "    .dataframe thead th {\n",
       "        text-align: right;\n",
       "    }\n",
       "</style>\n",
       "<table border=\"1\" class=\"dataframe\">\n",
       "  <thead>\n",
       "    <tr style=\"text-align: right;\">\n",
       "      <th></th>\n",
       "      <th>component 1</th>\n",
       "      <th>component 2</th>\n",
       "      <th>component 3</th>\n",
       "      <th>component 4</th>\n",
       "      <th>component 5</th>\n",
       "      <th>component 6</th>\n",
       "      <th>component 7</th>\n",
       "      <th>component 8</th>\n",
       "      <th>component 9</th>\n",
       "      <th>component 10</th>\n",
       "      <th>...</th>\n",
       "      <th>component 1155</th>\n",
       "      <th>component 1156</th>\n",
       "      <th>component 1157</th>\n",
       "      <th>component 1158</th>\n",
       "      <th>component 1159</th>\n",
       "      <th>component 1160</th>\n",
       "      <th>component 1161</th>\n",
       "      <th>component 1162</th>\n",
       "      <th>component 1163</th>\n",
       "      <th>component 1164</th>\n",
       "    </tr>\n",
       "  </thead>\n",
       "  <tbody>\n",
       "    <tr>\n",
       "      <th>0</th>\n",
       "      <td>6.155315</td>\n",
       "      <td>1.003415</td>\n",
       "      <td>1.884489</td>\n",
       "      <td>0.162128</td>\n",
       "      <td>1.542543</td>\n",
       "      <td>-1.592334</td>\n",
       "      <td>2.037632</td>\n",
       "      <td>1.027286</td>\n",
       "      <td>1.401541</td>\n",
       "      <td>-0.108377</td>\n",
       "      <td>...</td>\n",
       "      <td>0.093543</td>\n",
       "      <td>0.020271</td>\n",
       "      <td>0.019131</td>\n",
       "      <td>-0.143041</td>\n",
       "      <td>0.099358</td>\n",
       "      <td>0.003613</td>\n",
       "      <td>0.074602</td>\n",
       "      <td>0.338263</td>\n",
       "      <td>2.374017</td>\n",
       "      <td>0.401758</td>\n",
       "    </tr>\n",
       "    <tr>\n",
       "      <th>1</th>\n",
       "      <td>4.463010</td>\n",
       "      <td>2.090785</td>\n",
       "      <td>0.978700</td>\n",
       "      <td>0.063590</td>\n",
       "      <td>0.798095</td>\n",
       "      <td>-0.798207</td>\n",
       "      <td>0.853332</td>\n",
       "      <td>-0.120340</td>\n",
       "      <td>0.945498</td>\n",
       "      <td>0.360980</td>\n",
       "      <td>...</td>\n",
       "      <td>0.036765</td>\n",
       "      <td>0.023022</td>\n",
       "      <td>-0.031184</td>\n",
       "      <td>-0.119795</td>\n",
       "      <td>0.024298</td>\n",
       "      <td>0.011860</td>\n",
       "      <td>0.028745</td>\n",
       "      <td>0.297662</td>\n",
       "      <td>1.494762</td>\n",
       "      <td>0.401758</td>\n",
       "    </tr>\n",
       "    <tr>\n",
       "      <th>2</th>\n",
       "      <td>3.531236</td>\n",
       "      <td>0.733328</td>\n",
       "      <td>0.381070</td>\n",
       "      <td>-0.732909</td>\n",
       "      <td>0.047286</td>\n",
       "      <td>0.069248</td>\n",
       "      <td>0.467548</td>\n",
       "      <td>0.046613</td>\n",
       "      <td>-0.072457</td>\n",
       "      <td>0.037672</td>\n",
       "      <td>...</td>\n",
       "      <td>-0.010876</td>\n",
       "      <td>-0.002534</td>\n",
       "      <td>0.043342</td>\n",
       "      <td>-0.131857</td>\n",
       "      <td>0.012815</td>\n",
       "      <td>-0.019543</td>\n",
       "      <td>0.098430</td>\n",
       "      <td>0.371079</td>\n",
       "      <td>0.779426</td>\n",
       "      <td>0.401758</td>\n",
       "    </tr>\n",
       "  </tbody>\n",
       "</table>\n",
       "<p>3 rows × 1164 columns</p>\n",
       "</div>"
      ],
      "text/plain": [
       "   component 1  component 2  component 3  component 4  component 5  \\\n",
       "0     6.155315     1.003415     1.884489     0.162128     1.542543   \n",
       "1     4.463010     2.090785     0.978700     0.063590     0.798095   \n",
       "2     3.531236     0.733328     0.381070    -0.732909     0.047286   \n",
       "\n",
       "   component 6  component 7  component 8  component 9  component 10  \\\n",
       "0    -1.592334     2.037632     1.027286     1.401541     -0.108377   \n",
       "1    -0.798207     0.853332    -0.120340     0.945498      0.360980   \n",
       "2     0.069248     0.467548     0.046613    -0.072457      0.037672   \n",
       "\n",
       "        ...        component 1155  component 1156  component 1157  \\\n",
       "0       ...              0.093543        0.020271        0.019131   \n",
       "1       ...              0.036765        0.023022       -0.031184   \n",
       "2       ...             -0.010876       -0.002534        0.043342   \n",
       "\n",
       "   component 1158  component 1159  component 1160  component 1161  \\\n",
       "0       -0.143041        0.099358        0.003613        0.074602   \n",
       "1       -0.119795        0.024298        0.011860        0.028745   \n",
       "2       -0.131857        0.012815       -0.019543        0.098430   \n",
       "\n",
       "   component 1162  component 1163  component 1164  \n",
       "0        0.338263        2.374017        0.401758  \n",
       "1        0.297662        1.494762        0.401758  \n",
       "2        0.371079        0.779426        0.401758  \n",
       "\n",
       "[3 rows x 1164 columns]"
      ]
     },
     "execution_count": 48,
     "metadata": {},
     "output_type": "execute_result"
    }
   ],
   "source": [
    "X_pca.head(3)"
   ]
  },
  {
   "cell_type": "code",
   "execution_count": 49,
   "metadata": {},
   "outputs": [
    {
     "data": {
      "text/plain": [
       "1164"
      ]
     },
     "execution_count": 49,
     "metadata": {},
     "output_type": "execute_result"
    }
   ],
   "source": [
    "len(pca.components_)"
   ]
  },
  {
   "cell_type": "code",
   "execution_count": 50,
   "metadata": {},
   "outputs": [
    {
     "data": {
      "text/plain": [
       "1164"
      ]
     },
     "execution_count": 50,
     "metadata": {},
     "output_type": "execute_result"
    }
   ],
   "source": [
    "len(pca.components_[0])"
   ]
  },
  {
   "cell_type": "code",
   "execution_count": 51,
   "metadata": {},
   "outputs": [
    {
     "data": {
      "text/html": [
       "<div>\n",
       "<style scoped>\n",
       "    .dataframe tbody tr th:only-of-type {\n",
       "        vertical-align: middle;\n",
       "    }\n",
       "\n",
       "    .dataframe tbody tr th {\n",
       "        vertical-align: top;\n",
       "    }\n",
       "\n",
       "    .dataframe thead th {\n",
       "        text-align: right;\n",
       "    }\n",
       "</style>\n",
       "<table border=\"1\" class=\"dataframe\">\n",
       "  <thead>\n",
       "    <tr style=\"text-align: right;\">\n",
       "      <th></th>\n",
       "      <th>action_x</th>\n",
       "      <th>adventure_x</th>\n",
       "      <th>animation_x</th>\n",
       "      <th>children_x</th>\n",
       "      <th>comedy_x</th>\n",
       "      <th>crime_x</th>\n",
       "      <th>documentary_x</th>\n",
       "      <th>drama_x</th>\n",
       "      <th>fantasy_x</th>\n",
       "      <th>horror_x</th>\n",
       "      <th>...</th>\n",
       "      <th>world politics</th>\n",
       "      <th>world war i</th>\n",
       "      <th>world war ii</th>\n",
       "      <th>writer's life</th>\n",
       "      <th>writers</th>\n",
       "      <th>writing</th>\n",
       "      <th>wuxia</th>\n",
       "      <th>wwii</th>\n",
       "      <th>zombie</th>\n",
       "      <th>zombies</th>\n",
       "    </tr>\n",
       "  </thead>\n",
       "  <tbody>\n",
       "    <tr>\n",
       "      <th>component 1</th>\n",
       "      <td>0.004554</td>\n",
       "      <td>0.004163</td>\n",
       "      <td>0.001423</td>\n",
       "      <td>0.002026</td>\n",
       "      <td>0.002155</td>\n",
       "      <td>0.002624</td>\n",
       "      <td>-0.005247</td>\n",
       "      <td>0.001308</td>\n",
       "      <td>0.002596</td>\n",
       "      <td>-0.000338</td>\n",
       "      <td>...</td>\n",
       "      <td>0.027654</td>\n",
       "      <td>0.022422</td>\n",
       "      <td>0.015794</td>\n",
       "      <td>0.029669</td>\n",
       "      <td>0.040525</td>\n",
       "      <td>0.033570</td>\n",
       "      <td>0.021234</td>\n",
       "      <td>0.014606</td>\n",
       "      <td>0.029733</td>\n",
       "      <td>0.013521</td>\n",
       "    </tr>\n",
       "    <tr>\n",
       "      <th>component 2</th>\n",
       "      <td>0.036725</td>\n",
       "      <td>0.028744</td>\n",
       "      <td>0.010375</td>\n",
       "      <td>0.019259</td>\n",
       "      <td>0.013651</td>\n",
       "      <td>-0.005172</td>\n",
       "      <td>-0.011819</td>\n",
       "      <td>-0.037363</td>\n",
       "      <td>0.016774</td>\n",
       "      <td>0.015552</td>\n",
       "      <td>...</td>\n",
       "      <td>-0.024432</td>\n",
       "      <td>-0.024824</td>\n",
       "      <td>-0.020296</td>\n",
       "      <td>-0.039210</td>\n",
       "      <td>0.003424</td>\n",
       "      <td>-0.016726</td>\n",
       "      <td>-0.000220</td>\n",
       "      <td>-0.020520</td>\n",
       "      <td>0.033264</td>\n",
       "      <td>0.014103</td>\n",
       "    </tr>\n",
       "    <tr>\n",
       "      <th>component 3</th>\n",
       "      <td>-0.001375</td>\n",
       "      <td>0.022216</td>\n",
       "      <td>0.014569</td>\n",
       "      <td>0.029553</td>\n",
       "      <td>0.001250</td>\n",
       "      <td>-0.023250</td>\n",
       "      <td>0.007170</td>\n",
       "      <td>0.016504</td>\n",
       "      <td>0.003177</td>\n",
       "      <td>-0.052728</td>\n",
       "      <td>...</td>\n",
       "      <td>0.044489</td>\n",
       "      <td>0.058831</td>\n",
       "      <td>0.057796</td>\n",
       "      <td>-0.017202</td>\n",
       "      <td>-0.025137</td>\n",
       "      <td>-0.014513</td>\n",
       "      <td>-0.013086</td>\n",
       "      <td>0.061684</td>\n",
       "      <td>-0.056652</td>\n",
       "      <td>-0.038282</td>\n",
       "    </tr>\n",
       "  </tbody>\n",
       "</table>\n",
       "<p>3 rows × 1164 columns</p>\n",
       "</div>"
      ],
      "text/plain": [
       "             action_x  adventure_x  animation_x  children_x  comedy_x  \\\n",
       "component 1  0.004554     0.004163     0.001423    0.002026  0.002155   \n",
       "component 2  0.036725     0.028744     0.010375    0.019259  0.013651   \n",
       "component 3 -0.001375     0.022216     0.014569    0.029553  0.001250   \n",
       "\n",
       "              crime_x  documentary_x   drama_x  fantasy_x  horror_x    ...     \\\n",
       "component 1  0.002624      -0.005247  0.001308   0.002596 -0.000338    ...      \n",
       "component 2 -0.005172      -0.011819 -0.037363   0.016774  0.015552    ...      \n",
       "component 3 -0.023250       0.007170  0.016504   0.003177 -0.052728    ...      \n",
       "\n",
       "             world politics  world war i  world war ii  writer's life  \\\n",
       "component 1        0.027654     0.022422      0.015794       0.029669   \n",
       "component 2       -0.024432    -0.024824     -0.020296      -0.039210   \n",
       "component 3        0.044489     0.058831      0.057796      -0.017202   \n",
       "\n",
       "              writers   writing     wuxia      wwii    zombie   zombies  \n",
       "component 1  0.040525  0.033570  0.021234  0.014606  0.029733  0.013521  \n",
       "component 2  0.003424 -0.016726 -0.000220 -0.020520  0.033264  0.014103  \n",
       "component 3 -0.025137 -0.014513 -0.013086  0.061684 -0.056652 -0.038282  \n",
       "\n",
       "[3 rows x 1164 columns]"
      ]
     },
     "execution_count": 51,
     "metadata": {},
     "output_type": "execute_result"
    }
   ],
   "source": [
    "# Creating a dataframe to take a deeper dive into the PCA components\n",
    "components = pd.DataFrame(pca.components_,\n",
    "            columns=X.columns,\n",
    "            index=[f'component {i}' for i in range(1,1165)])\n",
    "components.head(3)"
   ]
  },
  {
   "cell_type": "code",
   "execution_count": 72,
   "metadata": {},
   "outputs": [
    {
     "data": {
      "text/plain": [
       "<matplotlib.axes._subplots.AxesSubplot at 0x12e8eee80>"
      ]
     },
     "execution_count": 72,
     "metadata": {},
     "output_type": "execute_result"
    },
    {
     "data": {
      "image/png": "[encoded data removed]",
      "text/plain": [
       "<Figure size 432x288 with 1 Axes>"
      ]
     },
     "metadata": {
      "needs_background": "light"
     },
     "output_type": "display_data"
    }
   ],
   "source": [
    "# Checking the number of components that help explain the variability in our data\n",
    "var_exp = pca.explained_variance_ratio_\n",
    "var_exp_df= pd.DataFrame(var_exp)\n",
    "cum_var_exp = np.cumsum(var_exp)\n",
    "cum_var_exp_df = pd.DataFrame(cum_var_exp)\n",
    "cum_var_exp_df[:100].plot()"
   ]
  },
  {
   "cell_type": "code",
   "execution_count": 54,
   "metadata": {},
   "outputs": [
    {
     "data": {
      "text/plain": [
       "<matplotlib.axes._subplots.AxesSubplot at 0x12b8979b0>"
      ]
     },
     "execution_count": 54,
     "metadata": {},
     "output_type": "execute_result"
    },
    {
     "data": {
      "image/png": "[encoded data removed]",
      "text/plain": [
       "<Figure size 432x288 with 1 Axes>"
      ]
     },
     "metadata": {
      "needs_background": "light"
     },
     "output_type": "display_data"
    }
   ],
   "source": [
    "cum_var_exp_df[:10].plot() "
   ]
  },
  {
   "cell_type": "code",
   "execution_count": 63,
   "metadata": {},
   "outputs": [
    {
     "data": {
      "text/plain": [
       "<matplotlib.axes._subplots.AxesSubplot at 0x136b24ac8>"
      ]
     },
     "execution_count": 63,
     "metadata": {},
     "output_type": "execute_result"
    },
    {
     "data": {
      "image/png": "[encoded data removed]",
      "text/plain": [
       "<Figure size 432x288 with 1 Axes>"
      ]
     },
     "metadata": {
      "needs_background": "light"
     },
     "output_type": "display_data"
    }
   ],
   "source": [
    "cum_var_exp_df[:9].plot() "
   ]
  },
  {
   "cell_type": "code",
   "execution_count": 94,
   "metadata": {},
   "outputs": [
    {
     "data": {
      "text/html": [
       "<div>\n",
       "<style scoped>\n",
       "    .dataframe tbody tr th:only-of-type {\n",
       "        vertical-align: middle;\n",
       "    }\n",
       "\n",
       "    .dataframe tbody tr th {\n",
       "        vertical-align: top;\n",
       "    }\n",
       "\n",
       "    .dataframe thead th {\n",
       "        text-align: right;\n",
       "    }\n",
       "</style>\n",
       "<table border=\"1\" class=\"dataframe\">\n",
       "  <thead>\n",
       "    <tr style=\"text-align: right;\">\n",
       "      <th></th>\n",
       "      <th>0</th>\n",
       "    </tr>\n",
       "  </thead>\n",
       "  <tbody>\n",
       "    <tr>\n",
       "      <th>0</th>\n",
       "      <td>0.346434</td>\n",
       "    </tr>\n",
       "    <tr>\n",
       "      <th>1</th>\n",
       "      <td>0.051076</td>\n",
       "    </tr>\n",
       "    <tr>\n",
       "      <th>2</th>\n",
       "      <td>0.025736</td>\n",
       "    </tr>\n",
       "    <tr>\n",
       "      <th>3</th>\n",
       "      <td>0.022231</td>\n",
       "    </tr>\n",
       "    <tr>\n",
       "      <th>4</th>\n",
       "      <td>0.020007</td>\n",
       "    </tr>\n",
       "    <tr>\n",
       "      <th>5</th>\n",
       "      <td>0.015329</td>\n",
       "    </tr>\n",
       "    <tr>\n",
       "      <th>6</th>\n",
       "      <td>0.014664</td>\n",
       "    </tr>\n",
       "    <tr>\n",
       "      <th>7</th>\n",
       "      <td>0.013103</td>\n",
       "    </tr>\n",
       "    <tr>\n",
       "      <th>8</th>\n",
       "      <td>0.011882</td>\n",
       "    </tr>\n",
       "  </tbody>\n",
       "</table>\n",
       "</div>"
      ],
      "text/plain": [
       "          0\n",
       "0  0.346434\n",
       "1  0.051076\n",
       "2  0.025736\n",
       "3  0.022231\n",
       "4  0.020007\n",
       "5  0.015329\n",
       "6  0.014664\n",
       "7  0.013103\n",
       "8  0.011882"
      ]
     },
     "execution_count": 94,
     "metadata": {},
     "output_type": "execute_result"
    }
   ],
   "source": [
    "var_exp_df[:9]"
   ]
  },
  {
   "cell_type": "code",
   "execution_count": 92,
   "metadata": {},
   "outputs": [
    {
     "data": {
      "text/plain": [
       "array([1., 2., 3., 4., 5., 6., 7., 8.])"
      ]
     },
     "execution_count": 92,
     "metadata": {},
     "output_type": "execute_result"
    }
   ],
   "source": [
    "xlabels = np.linspace(1,8,8)\n",
    "xlabels"
   ]
  },
  {
   "cell_type": "code",
   "execution_count": 96,
   "metadata": {},
   "outputs": [
    {
     "data": {
      "text/plain": [
       "<BarContainer object of 9 artists>"
      ]
     },
     "execution_count": 96,
     "metadata": {},
     "output_type": "execute_result"
    },
    {
     "data": {
      "image/png": "[encoded data removed]",
      "text/plain": [
       "<Figure size 432x288 with 1 Axes>"
      ]
     },
     "metadata": {
      "needs_background": "light"
     },
     "output_type": "display_data"
    }
   ],
   "source": [
    "plt.bar( var_exp_df[:9].index, var_exp_df[:9][0])"
   ]
  },
  {
   "cell_type": "code",
   "execution_count": 118,
   "metadata": {},
   "outputs": [
    {
     "data": {
      "image/png": "[encoded data removed]",
      "text/plain": [
       "<Figure size 576x432 with 2 Axes>"
      ]
     },
     "metadata": {
      "needs_background": "light"
     },
     "output_type": "display_data"
    }
   ],
   "source": [
    "fig, ax1 = plt.subplots(figsize = (8, 6))\n",
    "ax1.bar( var_exp_df[:8].index, var_exp_df[:8][0])\n",
    "ax1.set_xlabel('PCA Complonent', fontsize = 14)\n",
    "ax1.set_ylabel('Individual Components', color='b', fontsize = 13)\n",
    "ax1.set_ylim([0, .55])\n",
    "\n",
    "ax2 = ax1.twinx()\n",
    "ax2.plot(cum_var_exp_df[:8], color = 'r')\n",
    "ax2.set_ylabel('Cumulative Componenets', fontsize = 13, color = 'r')\n",
    "ax2.set_ylim([0, .55])\n",
    "\n",
    "\n",
    "ax1.set_title('Individual and Cumulative PCA Componenets', fontsize = 15);"
   ]
  },
  {
   "cell_type": "code",
   "execution_count": 133,
   "metadata": {},
   "outputs": [],
   "source": [
    "# Create a function to take in a PCA component dataframe and graph out its components \n",
    "# and check the top and bottom features of that component\n",
    "def plotting_components(components, num_components, num_of_elements ):\n",
    "    fig, ax = plt.subplots(nrows=num_components, ncols=1, figsize = (6, num_components* 5))\n",
    "    ax = ax.ravel() \n",
    "    for i in range(1,num_components+1):\n",
    "        ax[i-1].barh(\n",
    "            components[components.index == f'component {i}'].T.sort_values(by= f'component {i}').head(num_of_elements).sort_values(by= f'component {i}').index,\n",
    "            components[components.index == f'component {i}'].T.sort_values(by= f'component {i}').head(num_of_elements).sort_values(by= f'component {i}')[f'component {i}'])\n",
    "        ax[i-1].barh(\n",
    "             components[components.index == f'component {i}'].T.sort_values(by= f'component {i}', ascending = False).head(num_of_elements).sort_values(by= f'component {i}').index,\n",
    "             components[components.index == f'component {i}'].T.sort_values(by= f'component {i}', ascending = False).head(num_of_elements).sort_values(by= f'component {i}')[f'component {i}'])\n",
    "        ax[i-1].set_title(f'Component {i}')\n",
    "    plt.savefig('images/PCA Componenets')\n",
    "        \n",
    "\n",
    "\n",
    "\n",
    "\n",
    "\n",
    "\n"
   ]
  },
  {
   "cell_type": "code",
   "execution_count": 134,
   "metadata": {},
   "outputs": [
    {
     "data": {
      "image/png": "[encoded data removed]",
      "text/plain": [
       "<Figure size 432x2880 with 8 Axes>"
      ]
     },
     "metadata": {
      "needs_background": "light"
     },
     "output_type": "display_data"
    }
   ],
   "source": [
    "# Graphing top 5 and bottom 5 strongest features of top 8 components \n",
    "plotting_components(components, 8, 5)"
   ]
  },
  {
   "cell_type": "code",
   "execution_count": null,
   "metadata": {},
   "outputs": [],
   "source": []
  }
 ],
 "metadata": {
  "kernelspec": {
   "display_name": "Python 3",
   "language": "python",
   "name": "python3"
  },
  "language_info": {
   "codemirror_mode": {
    "name": "ipython",
    "version": 3
   },
   "file_extension": ".py",
   "mimetype": "text/x-python",
   "name": "python",
   "nbconvert_exporter": "python",
   "pygments_lexer": "ipython3",
   "version": "3.6.6"
  }
 },
 "nbformat": 4,
 "nbformat_minor": 2
}
