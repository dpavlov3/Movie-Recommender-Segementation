{
 "cells": [
  {
   "cell_type": "code",
   "execution_count": 67,
   "metadata": {},
   "outputs": [],
   "source": [
    "import matplotlib.pyplot as plt\n",
    "import numpy as np\n",
    "import pandas as pd\n",
    "import seaborn as sns\n",
    "\n",
    "from scipy.cluster.hierarchy import dendrogram, linkage, cophenet, fcluster\n",
    "from scipy.spatial.distance import pdist\n",
    "\n",
    "from sklearn.decomposition import PCA\n",
    "from sklearn.preprocessing import StandardScaler\n",
    "\n",
    "sns.set_style('whitegrid')\n",
    "\n",
    "%matplotlib inline"
   ]
  },
  {
   "cell_type": "markdown",
   "metadata": {},
   "source": [
    "- Data Merging and Feature Engineering\n",
    "- EDA \n",
    "- PCA Segementation\n",
    "- t-SNE Visualization"
   ]
  },
  {
   "cell_type": "code",
   "execution_count": null,
   "metadata": {},
   "outputs": [],
   "source": []
  },
  {
   "cell_type": "code",
   "execution_count": 103,
   "metadata": {},
   "outputs": [
    {
     "data": {
      "text/html": [
       "<div>\n",
       "<style scoped>\n",
       "    .dataframe tbody tr th:only-of-type {\n",
       "        vertical-align: middle;\n",
       "    }\n",
       "\n",
       "    .dataframe tbody tr th {\n",
       "        vertical-align: top;\n",
       "    }\n",
       "\n",
       "    .dataframe thead th {\n",
       "        text-align: right;\n",
       "    }\n",
       "</style>\n",
       "<table border=\"1\" class=\"dataframe\">\n",
       "  <thead>\n",
       "    <tr style=\"text-align: right;\">\n",
       "      <th></th>\n",
       "      <th>Unnamed: 0</th>\n",
       "      <th>movieId</th>\n",
       "      <th>title</th>\n",
       "      <th>decade_1890</th>\n",
       "      <th>decade_1900</th>\n",
       "      <th>decade_1910</th>\n",
       "      <th>decade_1920</th>\n",
       "      <th>decade_1930</th>\n",
       "      <th>decade_1940</th>\n",
       "      <th>decade_1950</th>\n",
       "      <th>...</th>\n",
       "      <th>world politics</th>\n",
       "      <th>world war i</th>\n",
       "      <th>world war ii</th>\n",
       "      <th>writer's life</th>\n",
       "      <th>writers</th>\n",
       "      <th>writing</th>\n",
       "      <th>wuxia</th>\n",
       "      <th>wwii</th>\n",
       "      <th>zombie</th>\n",
       "      <th>zombies</th>\n",
       "    </tr>\n",
       "  </thead>\n",
       "  <tbody>\n",
       "    <tr>\n",
       "      <th>0</th>\n",
       "      <td>0</td>\n",
       "      <td>1</td>\n",
       "      <td>Toy Story (1995)</td>\n",
       "      <td>0</td>\n",
       "      <td>0</td>\n",
       "      <td>0</td>\n",
       "      <td>0</td>\n",
       "      <td>0</td>\n",
       "      <td>0</td>\n",
       "      <td>0</td>\n",
       "      <td>...</td>\n",
       "      <td>0.03950</td>\n",
       "      <td>0.01800</td>\n",
       "      <td>0.04575</td>\n",
       "      <td>0.03275</td>\n",
       "      <td>0.1250</td>\n",
       "      <td>0.04150</td>\n",
       "      <td>0.01925</td>\n",
       "      <td>0.03625</td>\n",
       "      <td>0.07775</td>\n",
       "      <td>0.02300</td>\n",
       "    </tr>\n",
       "    <tr>\n",
       "      <th>1</th>\n",
       "      <td>1</td>\n",
       "      <td>2</td>\n",
       "      <td>Jumanji (1995)</td>\n",
       "      <td>0</td>\n",
       "      <td>0</td>\n",
       "      <td>0</td>\n",
       "      <td>0</td>\n",
       "      <td>0</td>\n",
       "      <td>0</td>\n",
       "      <td>0</td>\n",
       "      <td>...</td>\n",
       "      <td>0.04175</td>\n",
       "      <td>0.01925</td>\n",
       "      <td>0.01725</td>\n",
       "      <td>0.02425</td>\n",
       "      <td>0.1255</td>\n",
       "      <td>0.02250</td>\n",
       "      <td>0.01550</td>\n",
       "      <td>0.01475</td>\n",
       "      <td>0.09025</td>\n",
       "      <td>0.01875</td>\n",
       "    </tr>\n",
       "    <tr>\n",
       "      <th>2</th>\n",
       "      <td>2</td>\n",
       "      <td>3</td>\n",
       "      <td>Grumpier Old Men (1995)</td>\n",
       "      <td>0</td>\n",
       "      <td>0</td>\n",
       "      <td>0</td>\n",
       "      <td>0</td>\n",
       "      <td>0</td>\n",
       "      <td>0</td>\n",
       "      <td>0</td>\n",
       "      <td>...</td>\n",
       "      <td>0.04150</td>\n",
       "      <td>0.02675</td>\n",
       "      <td>0.02775</td>\n",
       "      <td>0.03425</td>\n",
       "      <td>0.1555</td>\n",
       "      <td>0.03675</td>\n",
       "      <td>0.01700</td>\n",
       "      <td>0.01950</td>\n",
       "      <td>0.09700</td>\n",
       "      <td>0.01850</td>\n",
       "    </tr>\n",
       "  </tbody>\n",
       "</table>\n",
       "<p>3 rows × 1175 columns</p>\n",
       "</div>"
      ],
      "text/plain": [
       "   Unnamed: 0  movieId                    title  decade_1890  decade_1900  \\\n",
       "0           0        1         Toy Story (1995)            0            0   \n",
       "1           1        2           Jumanji (1995)            0            0   \n",
       "2           2        3  Grumpier Old Men (1995)            0            0   \n",
       "\n",
       "   decade_1910  decade_1920  decade_1930  decade_1940  decade_1950   ...     \\\n",
       "0            0            0            0            0            0   ...      \n",
       "1            0            0            0            0            0   ...      \n",
       "2            0            0            0            0            0   ...      \n",
       "\n",
       "   world politics  world war i  world war ii  writer's life  writers  writing  \\\n",
       "0         0.03950      0.01800       0.04575        0.03275   0.1250  0.04150   \n",
       "1         0.04175      0.01925       0.01725        0.02425   0.1255  0.02250   \n",
       "2         0.04150      0.02675       0.02775        0.03425   0.1555  0.03675   \n",
       "\n",
       "     wuxia     wwii   zombie  zombies  \n",
       "0  0.01925  0.03625  0.07775  0.02300  \n",
       "1  0.01550  0.01475  0.09025  0.01875  \n",
       "2  0.01700  0.01950  0.09700  0.01850  \n",
       "\n",
       "[3 rows x 1175 columns]"
      ]
     },
     "execution_count": 103,
     "metadata": {},
     "output_type": "execute_result"
    }
   ],
   "source": [
    "# Importing and reading the data\n",
    "\n",
    "df = pd.read_csv('data/movie_features.csv')\n",
    "df_eda = pd.read_csv('data/movie_features_eda.csv')\n",
    "df_ratings = pd.read_csv('data/rating_eda.csv')\n",
    "df.head(3)"
   ]
  },
  {
   "cell_type": "code",
   "execution_count": 104,
   "metadata": {},
   "outputs": [
    {
     "data": {
      "text/html": [
       "<div>\n",
       "<style scoped>\n",
       "    .dataframe tbody tr th:only-of-type {\n",
       "        vertical-align: middle;\n",
       "    }\n",
       "\n",
       "    .dataframe tbody tr th {\n",
       "        vertical-align: top;\n",
       "    }\n",
       "\n",
       "    .dataframe thead th {\n",
       "        text-align: right;\n",
       "    }\n",
       "</style>\n",
       "<table border=\"1\" class=\"dataframe\">\n",
       "  <thead>\n",
       "    <tr style=\"text-align: right;\">\n",
       "      <th></th>\n",
       "      <th>movieId</th>\n",
       "      <th>title</th>\n",
       "      <th>genres</th>\n",
       "      <th>decade_1890</th>\n",
       "      <th>decade_1900</th>\n",
       "      <th>decade_1910</th>\n",
       "      <th>decade_1920</th>\n",
       "      <th>decade_1930</th>\n",
       "      <th>decade_1940</th>\n",
       "      <th>decade_1950</th>\n",
       "      <th>...</th>\n",
       "      <th>musical</th>\n",
       "      <th>mystery</th>\n",
       "      <th>no_genres</th>\n",
       "      <th>noir</th>\n",
       "      <th>romance</th>\n",
       "      <th>scifi</th>\n",
       "      <th>thriller</th>\n",
       "      <th>war</th>\n",
       "      <th>western</th>\n",
       "      <th>decade</th>\n",
       "    </tr>\n",
       "  </thead>\n",
       "  <tbody>\n",
       "    <tr>\n",
       "      <th>0</th>\n",
       "      <td>1</td>\n",
       "      <td>Toy Story (1995)</td>\n",
       "      <td>Adventure|Animation|Children|Comedy|Fantasy</td>\n",
       "      <td>0</td>\n",
       "      <td>0</td>\n",
       "      <td>0</td>\n",
       "      <td>0</td>\n",
       "      <td>0</td>\n",
       "      <td>0</td>\n",
       "      <td>0</td>\n",
       "      <td>...</td>\n",
       "      <td>0</td>\n",
       "      <td>0</td>\n",
       "      <td>0</td>\n",
       "      <td>0</td>\n",
       "      <td>0</td>\n",
       "      <td>0</td>\n",
       "      <td>0</td>\n",
       "      <td>0</td>\n",
       "      <td>0</td>\n",
       "      <td>1990</td>\n",
       "    </tr>\n",
       "    <tr>\n",
       "      <th>1</th>\n",
       "      <td>2</td>\n",
       "      <td>Jumanji (1995)</td>\n",
       "      <td>Adventure|Children|Fantasy</td>\n",
       "      <td>0</td>\n",
       "      <td>0</td>\n",
       "      <td>0</td>\n",
       "      <td>0</td>\n",
       "      <td>0</td>\n",
       "      <td>0</td>\n",
       "      <td>0</td>\n",
       "      <td>...</td>\n",
       "      <td>0</td>\n",
       "      <td>0</td>\n",
       "      <td>0</td>\n",
       "      <td>0</td>\n",
       "      <td>0</td>\n",
       "      <td>0</td>\n",
       "      <td>0</td>\n",
       "      <td>0</td>\n",
       "      <td>0</td>\n",
       "      <td>1990</td>\n",
       "    </tr>\n",
       "    <tr>\n",
       "      <th>2</th>\n",
       "      <td>3</td>\n",
       "      <td>Grumpier Old Men (1995)</td>\n",
       "      <td>Comedy|Romance</td>\n",
       "      <td>0</td>\n",
       "      <td>0</td>\n",
       "      <td>0</td>\n",
       "      <td>0</td>\n",
       "      <td>0</td>\n",
       "      <td>0</td>\n",
       "      <td>0</td>\n",
       "      <td>...</td>\n",
       "      <td>0</td>\n",
       "      <td>0</td>\n",
       "      <td>0</td>\n",
       "      <td>0</td>\n",
       "      <td>1</td>\n",
       "      <td>0</td>\n",
       "      <td>0</td>\n",
       "      <td>0</td>\n",
       "      <td>0</td>\n",
       "      <td>1990</td>\n",
       "    </tr>\n",
       "  </tbody>\n",
       "</table>\n",
       "<p>3 rows × 48 columns</p>\n",
       "</div>"
      ],
      "text/plain": [
       "   movieId                    title  \\\n",
       "0        1         Toy Story (1995)   \n",
       "1        2           Jumanji (1995)   \n",
       "2        3  Grumpier Old Men (1995)   \n",
       "\n",
       "                                        genres  decade_1890  decade_1900  \\\n",
       "0  Adventure|Animation|Children|Comedy|Fantasy            0            0   \n",
       "1                   Adventure|Children|Fantasy            0            0   \n",
       "2                               Comedy|Romance            0            0   \n",
       "\n",
       "   decade_1910  decade_1920  decade_1930  decade_1940  decade_1950   ...    \\\n",
       "0            0            0            0            0            0   ...     \n",
       "1            0            0            0            0            0   ...     \n",
       "2            0            0            0            0            0   ...     \n",
       "\n",
       "   musical  mystery  no_genres  noir  romance  scifi  thriller  war  western  \\\n",
       "0        0        0          0     0        0      0         0    0        0   \n",
       "1        0        0          0     0        0      0         0    0        0   \n",
       "2        0        0          0     0        1      0         0    0        0   \n",
       "\n",
       "   decade  \n",
       "0    1990  \n",
       "1    1990  \n",
       "2    1990  \n",
       "\n",
       "[3 rows x 48 columns]"
      ]
     },
     "execution_count": 104,
     "metadata": {},
     "output_type": "execute_result"
    }
   ],
   "source": [
    "df_eda.head(3)"
   ]
  },
  {
   "cell_type": "code",
   "execution_count": 105,
   "metadata": {},
   "outputs": [
    {
     "data": {
      "text/html": [
       "<div>\n",
       "<style scoped>\n",
       "    .dataframe tbody tr th:only-of-type {\n",
       "        vertical-align: middle;\n",
       "    }\n",
       "\n",
       "    .dataframe tbody tr th {\n",
       "        vertical-align: top;\n",
       "    }\n",
       "\n",
       "    .dataframe thead th {\n",
       "        text-align: right;\n",
       "    }\n",
       "</style>\n",
       "<table border=\"1\" class=\"dataframe\">\n",
       "  <thead>\n",
       "    <tr style=\"text-align: right;\">\n",
       "      <th></th>\n",
       "      <th>avg_rating</th>\n",
       "      <th>movieId</th>\n",
       "      <th>num_rating</th>\n",
       "    </tr>\n",
       "  </thead>\n",
       "  <tbody>\n",
       "    <tr>\n",
       "      <th>0</th>\n",
       "      <td>3.921240</td>\n",
       "      <td>1</td>\n",
       "      <td>1</td>\n",
       "    </tr>\n",
       "    <tr>\n",
       "      <th>1</th>\n",
       "      <td>3.211977</td>\n",
       "      <td>2</td>\n",
       "      <td>2</td>\n",
       "    </tr>\n",
       "    <tr>\n",
       "      <th>2</th>\n",
       "      <td>3.151040</td>\n",
       "      <td>3</td>\n",
       "      <td>3</td>\n",
       "    </tr>\n",
       "  </tbody>\n",
       "</table>\n",
       "</div>"
      ],
      "text/plain": [
       "   avg_rating  movieId  num_rating\n",
       "0    3.921240        1           1\n",
       "1    3.211977        2           2\n",
       "2    3.151040        3           3"
      ]
     },
     "execution_count": 105,
     "metadata": {},
     "output_type": "execute_result"
    }
   ],
   "source": [
    "df_ratings = df_ratings.rename(columns={'Unnamed: 0':'movieId'})\n",
    "df_ratings.head(3)"
   ]
  },
  {
   "cell_type": "markdown",
   "metadata": {},
   "source": [
    "## Data Merging and Feature Engineering"
   ]
  },
  {
   "cell_type": "markdown",
   "metadata": {},
   "source": [
    "#### Prepare data for EDA"
   ]
  },
  {
   "cell_type": "code",
   "execution_count": 106,
   "metadata": {},
   "outputs": [
    {
     "data": {
      "text/html": [
       "<div>\n",
       "<style scoped>\n",
       "    .dataframe tbody tr th:only-of-type {\n",
       "        vertical-align: middle;\n",
       "    }\n",
       "\n",
       "    .dataframe tbody tr th {\n",
       "        vertical-align: top;\n",
       "    }\n",
       "\n",
       "    .dataframe thead th {\n",
       "        text-align: right;\n",
       "    }\n",
       "</style>\n",
       "<table border=\"1\" class=\"dataframe\">\n",
       "  <thead>\n",
       "    <tr style=\"text-align: right;\">\n",
       "      <th></th>\n",
       "      <th>movieId</th>\n",
       "      <th>title</th>\n",
       "      <th>genres</th>\n",
       "      <th>decade_1890</th>\n",
       "      <th>decade_1900</th>\n",
       "      <th>decade_1910</th>\n",
       "      <th>decade_1920</th>\n",
       "      <th>decade_1930</th>\n",
       "      <th>decade_1940</th>\n",
       "      <th>decade_1950</th>\n",
       "      <th>...</th>\n",
       "      <th>musical</th>\n",
       "      <th>mystery</th>\n",
       "      <th>no_genres</th>\n",
       "      <th>noir</th>\n",
       "      <th>romance</th>\n",
       "      <th>scifi</th>\n",
       "      <th>thriller</th>\n",
       "      <th>war</th>\n",
       "      <th>western</th>\n",
       "      <th>decade</th>\n",
       "    </tr>\n",
       "  </thead>\n",
       "  <tbody>\n",
       "    <tr>\n",
       "      <th>0</th>\n",
       "      <td>1</td>\n",
       "      <td>Toy Story (1995)</td>\n",
       "      <td>Adventure|Animation|Children|Comedy|Fantasy</td>\n",
       "      <td>0</td>\n",
       "      <td>0</td>\n",
       "      <td>0</td>\n",
       "      <td>0</td>\n",
       "      <td>0</td>\n",
       "      <td>0</td>\n",
       "      <td>0</td>\n",
       "      <td>...</td>\n",
       "      <td>0</td>\n",
       "      <td>0</td>\n",
       "      <td>0</td>\n",
       "      <td>0</td>\n",
       "      <td>0</td>\n",
       "      <td>0</td>\n",
       "      <td>0</td>\n",
       "      <td>0</td>\n",
       "      <td>0</td>\n",
       "      <td>1990</td>\n",
       "    </tr>\n",
       "    <tr>\n",
       "      <th>1</th>\n",
       "      <td>2</td>\n",
       "      <td>Jumanji (1995)</td>\n",
       "      <td>Adventure|Children|Fantasy</td>\n",
       "      <td>0</td>\n",
       "      <td>0</td>\n",
       "      <td>0</td>\n",
       "      <td>0</td>\n",
       "      <td>0</td>\n",
       "      <td>0</td>\n",
       "      <td>0</td>\n",
       "      <td>...</td>\n",
       "      <td>0</td>\n",
       "      <td>0</td>\n",
       "      <td>0</td>\n",
       "      <td>0</td>\n",
       "      <td>0</td>\n",
       "      <td>0</td>\n",
       "      <td>0</td>\n",
       "      <td>0</td>\n",
       "      <td>0</td>\n",
       "      <td>1990</td>\n",
       "    </tr>\n",
       "    <tr>\n",
       "      <th>2</th>\n",
       "      <td>3</td>\n",
       "      <td>Grumpier Old Men (1995)</td>\n",
       "      <td>Comedy|Romance</td>\n",
       "      <td>0</td>\n",
       "      <td>0</td>\n",
       "      <td>0</td>\n",
       "      <td>0</td>\n",
       "      <td>0</td>\n",
       "      <td>0</td>\n",
       "      <td>0</td>\n",
       "      <td>...</td>\n",
       "      <td>0</td>\n",
       "      <td>0</td>\n",
       "      <td>0</td>\n",
       "      <td>0</td>\n",
       "      <td>1</td>\n",
       "      <td>0</td>\n",
       "      <td>0</td>\n",
       "      <td>0</td>\n",
       "      <td>0</td>\n",
       "      <td>1990</td>\n",
       "    </tr>\n",
       "  </tbody>\n",
       "</table>\n",
       "<p>3 rows × 48 columns</p>\n",
       "</div>"
      ],
      "text/plain": [
       "   movieId                    title  \\\n",
       "0        1         Toy Story (1995)   \n",
       "1        2           Jumanji (1995)   \n",
       "2        3  Grumpier Old Men (1995)   \n",
       "\n",
       "                                        genres  decade_1890  decade_1900  \\\n",
       "0  Adventure|Animation|Children|Comedy|Fantasy            0            0   \n",
       "1                   Adventure|Children|Fantasy            0            0   \n",
       "2                               Comedy|Romance            0            0   \n",
       "\n",
       "   decade_1910  decade_1920  decade_1930  decade_1940  decade_1950   ...    \\\n",
       "0            0            0            0            0            0   ...     \n",
       "1            0            0            0            0            0   ...     \n",
       "2            0            0            0            0            0   ...     \n",
       "\n",
       "   musical  mystery  no_genres  noir  romance  scifi  thriller  war  western  \\\n",
       "0        0        0          0     0        0      0         0    0        0   \n",
       "1        0        0          0     0        0      0         0    0        0   \n",
       "2        0        0          0     0        1      0         0    0        0   \n",
       "\n",
       "   decade  \n",
       "0    1990  \n",
       "1    1990  \n",
       "2    1990  \n",
       "\n",
       "[3 rows x 48 columns]"
      ]
     },
     "execution_count": 106,
     "metadata": {},
     "output_type": "execute_result"
    }
   ],
   "source": [
    "df_eda.head(3)"
   ]
  },
  {
   "cell_type": "code",
   "execution_count": 107,
   "metadata": {},
   "outputs": [
    {
     "data": {
      "text/plain": [
       "Index(['movieId', 'title', 'genres', 'decade_1890', 'decade_1900',\n",
       "       'decade_1910', 'decade_1920', 'decade_1930', 'decade_1940',\n",
       "       'decade_1950', 'decade_1960', 'decade_1970', 'decade_1980',\n",
       "       'decade_1990', 'decade_2000', 'decade_2010', '1970', '1990', '1991',\n",
       "       '1993', '2002', '2003', '2008', '2010', '2011', '2014', 'action',\n",
       "       'adventure', 'animation', 'children', 'comedy', 'crime', 'documentary',\n",
       "       'drama', 'fantasy', 'film', 'horror', 'imax', 'musical', 'mystery',\n",
       "       'no_genres', 'noir', 'romance', 'scifi', 'thriller', 'war', 'western',\n",
       "       'decade'],\n",
       "      dtype='object')"
      ]
     },
     "execution_count": 107,
     "metadata": {},
     "output_type": "execute_result"
    }
   ],
   "source": [
    "df_eda.columns"
   ]
  },
  {
   "cell_type": "code",
   "execution_count": 108,
   "metadata": {},
   "outputs": [
    {
     "data": {
      "text/html": [
       "<div>\n",
       "<style scoped>\n",
       "    .dataframe tbody tr th:only-of-type {\n",
       "        vertical-align: middle;\n",
       "    }\n",
       "\n",
       "    .dataframe tbody tr th {\n",
       "        vertical-align: top;\n",
       "    }\n",
       "\n",
       "    .dataframe thead th {\n",
       "        text-align: right;\n",
       "    }\n",
       "</style>\n",
       "<table border=\"1\" class=\"dataframe\">\n",
       "  <thead>\n",
       "    <tr style=\"text-align: right;\">\n",
       "      <th></th>\n",
       "      <th>movieId</th>\n",
       "      <th>title</th>\n",
       "      <th>genres</th>\n",
       "      <th>action</th>\n",
       "      <th>adventure</th>\n",
       "      <th>animation</th>\n",
       "      <th>children</th>\n",
       "      <th>comedy</th>\n",
       "      <th>crime</th>\n",
       "      <th>documentary</th>\n",
       "      <th>...</th>\n",
       "      <th>musical</th>\n",
       "      <th>mystery</th>\n",
       "      <th>no_genres</th>\n",
       "      <th>noir</th>\n",
       "      <th>romance</th>\n",
       "      <th>scifi</th>\n",
       "      <th>thriller</th>\n",
       "      <th>war</th>\n",
       "      <th>western</th>\n",
       "      <th>decade</th>\n",
       "    </tr>\n",
       "  </thead>\n",
       "  <tbody>\n",
       "    <tr>\n",
       "      <th>0</th>\n",
       "      <td>1</td>\n",
       "      <td>Toy Story (1995)</td>\n",
       "      <td>Adventure|Animation|Children|Comedy|Fantasy</td>\n",
       "      <td>0</td>\n",
       "      <td>1</td>\n",
       "      <td>1</td>\n",
       "      <td>1</td>\n",
       "      <td>1</td>\n",
       "      <td>0</td>\n",
       "      <td>0</td>\n",
       "      <td>...</td>\n",
       "      <td>0</td>\n",
       "      <td>0</td>\n",
       "      <td>0</td>\n",
       "      <td>0</td>\n",
       "      <td>0</td>\n",
       "      <td>0</td>\n",
       "      <td>0</td>\n",
       "      <td>0</td>\n",
       "      <td>0</td>\n",
       "      <td>1990</td>\n",
       "    </tr>\n",
       "    <tr>\n",
       "      <th>1</th>\n",
       "      <td>2</td>\n",
       "      <td>Jumanji (1995)</td>\n",
       "      <td>Adventure|Children|Fantasy</td>\n",
       "      <td>0</td>\n",
       "      <td>1</td>\n",
       "      <td>0</td>\n",
       "      <td>1</td>\n",
       "      <td>0</td>\n",
       "      <td>0</td>\n",
       "      <td>0</td>\n",
       "      <td>...</td>\n",
       "      <td>0</td>\n",
       "      <td>0</td>\n",
       "      <td>0</td>\n",
       "      <td>0</td>\n",
       "      <td>0</td>\n",
       "      <td>0</td>\n",
       "      <td>0</td>\n",
       "      <td>0</td>\n",
       "      <td>0</td>\n",
       "      <td>1990</td>\n",
       "    </tr>\n",
       "  </tbody>\n",
       "</table>\n",
       "<p>2 rows × 25 columns</p>\n",
       "</div>"
      ],
      "text/plain": [
       "   movieId             title                                       genres  \\\n",
       "0        1  Toy Story (1995)  Adventure|Animation|Children|Comedy|Fantasy   \n",
       "1        2    Jumanji (1995)                   Adventure|Children|Fantasy   \n",
       "\n",
       "   action  adventure  animation  children  comedy  crime  documentary   ...    \\\n",
       "0       0          1          1         1       1      0            0   ...     \n",
       "1       0          1          0         1       0      0            0   ...     \n",
       "\n",
       "   musical  mystery  no_genres  noir  romance  scifi  thriller  war  western  \\\n",
       "0        0        0          0     0        0      0         0    0        0   \n",
       "1        0        0          0     0        0      0         0    0        0   \n",
       "\n",
       "   decade  \n",
       "0    1990  \n",
       "1    1990  \n",
       "\n",
       "[2 rows x 25 columns]"
      ]
     },
     "execution_count": 108,
     "metadata": {},
     "output_type": "execute_result"
    }
   ],
   "source": [
    "# Cleaning up and assigning only necessary colums, others are unnecessary or data errors\n",
    "df_n = df_eda[['movieId', 'title', 'genres', 'action',\n",
    "       'adventure', 'animation', 'children', 'comedy', 'crime', 'documentary',\n",
    "       'drama', 'fantasy', 'film', 'horror', 'imax', 'musical', 'mystery',\n",
    "       'no_genres', 'noir', 'romance', 'scifi', 'thriller', 'war', 'western',\n",
    "       'decade']]\n",
    "df_n.head(2)"
   ]
  },
  {
   "cell_type": "code",
   "execution_count": 109,
   "metadata": {},
   "outputs": [],
   "source": [
    "# Write a function to count the number of genres for each movie\n",
    "def num_genres(genre):\n",
    "    return len(genre.split('|'))"
   ]
  },
  {
   "cell_type": "code",
   "execution_count": 110,
   "metadata": {},
   "outputs": [
    {
     "data": {
      "text/plain": [
       "5"
      ]
     },
     "execution_count": 110,
     "metadata": {},
     "output_type": "execute_result"
    }
   ],
   "source": [
    "num_genres('Adventure|Animation|Children|Comedy|Fantasy')"
   ]
  },
  {
   "cell_type": "code",
   "execution_count": 111,
   "metadata": {},
   "outputs": [
    {
     "name": "stderr",
     "output_type": "stream",
     "text": [
      "/Users/dmitriy/anaconda3/lib/python3.6/site-packages/ipykernel_launcher.py:1: SettingWithCopyWarning: \n",
      "A value is trying to be set on a copy of a slice from a DataFrame.\n",
      "Try using .loc[row_indexer,col_indexer] = value instead\n",
      "\n",
      "See the caveats in the documentation: http://pandas.pydata.org/pandas-docs/stable/indexing.html#indexing-view-versus-copy\n",
      "  \"\"\"Entry point for launching an IPython kernel.\n"
     ]
    }
   ],
   "source": [
    "df_n['num_genres'] = df_n['genres'].map(num_genres)"
   ]
  },
  {
   "cell_type": "code",
   "execution_count": 112,
   "metadata": {},
   "outputs": [
    {
     "data": {
      "text/html": [
       "<div>\n",
       "<style scoped>\n",
       "    .dataframe tbody tr th:only-of-type {\n",
       "        vertical-align: middle;\n",
       "    }\n",
       "\n",
       "    .dataframe tbody tr th {\n",
       "        vertical-align: top;\n",
       "    }\n",
       "\n",
       "    .dataframe thead th {\n",
       "        text-align: right;\n",
       "    }\n",
       "</style>\n",
       "<table border=\"1\" class=\"dataframe\">\n",
       "  <thead>\n",
       "    <tr style=\"text-align: right;\">\n",
       "      <th></th>\n",
       "      <th>movieId</th>\n",
       "      <th>title</th>\n",
       "      <th>genres</th>\n",
       "      <th>action</th>\n",
       "      <th>adventure</th>\n",
       "      <th>animation</th>\n",
       "      <th>children</th>\n",
       "      <th>comedy</th>\n",
       "      <th>crime</th>\n",
       "      <th>documentary</th>\n",
       "      <th>...</th>\n",
       "      <th>noir</th>\n",
       "      <th>romance</th>\n",
       "      <th>scifi</th>\n",
       "      <th>thriller</th>\n",
       "      <th>war</th>\n",
       "      <th>western</th>\n",
       "      <th>decade</th>\n",
       "      <th>num_genres</th>\n",
       "      <th>avg_rating</th>\n",
       "      <th>num_rating</th>\n",
       "    </tr>\n",
       "  </thead>\n",
       "  <tbody>\n",
       "    <tr>\n",
       "      <th>0</th>\n",
       "      <td>1</td>\n",
       "      <td>Toy Story (1995)</td>\n",
       "      <td>Adventure|Animation|Children|Comedy|Fantasy</td>\n",
       "      <td>0</td>\n",
       "      <td>1</td>\n",
       "      <td>1</td>\n",
       "      <td>1</td>\n",
       "      <td>1</td>\n",
       "      <td>0</td>\n",
       "      <td>0</td>\n",
       "      <td>...</td>\n",
       "      <td>0</td>\n",
       "      <td>0</td>\n",
       "      <td>0</td>\n",
       "      <td>0</td>\n",
       "      <td>0</td>\n",
       "      <td>0</td>\n",
       "      <td>1990</td>\n",
       "      <td>5</td>\n",
       "      <td>3.921240</td>\n",
       "      <td>1.0</td>\n",
       "    </tr>\n",
       "    <tr>\n",
       "      <th>1</th>\n",
       "      <td>2</td>\n",
       "      <td>Jumanji (1995)</td>\n",
       "      <td>Adventure|Children|Fantasy</td>\n",
       "      <td>0</td>\n",
       "      <td>1</td>\n",
       "      <td>0</td>\n",
       "      <td>1</td>\n",
       "      <td>0</td>\n",
       "      <td>0</td>\n",
       "      <td>0</td>\n",
       "      <td>...</td>\n",
       "      <td>0</td>\n",
       "      <td>0</td>\n",
       "      <td>0</td>\n",
       "      <td>0</td>\n",
       "      <td>0</td>\n",
       "      <td>0</td>\n",
       "      <td>1990</td>\n",
       "      <td>3</td>\n",
       "      <td>3.211977</td>\n",
       "      <td>2.0</td>\n",
       "    </tr>\n",
       "    <tr>\n",
       "      <th>2</th>\n",
       "      <td>3</td>\n",
       "      <td>Grumpier Old Men (1995)</td>\n",
       "      <td>Comedy|Romance</td>\n",
       "      <td>0</td>\n",
       "      <td>0</td>\n",
       "      <td>0</td>\n",
       "      <td>0</td>\n",
       "      <td>1</td>\n",
       "      <td>0</td>\n",
       "      <td>0</td>\n",
       "      <td>...</td>\n",
       "      <td>0</td>\n",
       "      <td>1</td>\n",
       "      <td>0</td>\n",
       "      <td>0</td>\n",
       "      <td>0</td>\n",
       "      <td>0</td>\n",
       "      <td>1990</td>\n",
       "      <td>2</td>\n",
       "      <td>3.151040</td>\n",
       "      <td>3.0</td>\n",
       "    </tr>\n",
       "  </tbody>\n",
       "</table>\n",
       "<p>3 rows × 28 columns</p>\n",
       "</div>"
      ],
      "text/plain": [
       "   movieId                    title  \\\n",
       "0        1         Toy Story (1995)   \n",
       "1        2           Jumanji (1995)   \n",
       "2        3  Grumpier Old Men (1995)   \n",
       "\n",
       "                                        genres  action  adventure  animation  \\\n",
       "0  Adventure|Animation|Children|Comedy|Fantasy       0          1          1   \n",
       "1                   Adventure|Children|Fantasy       0          1          0   \n",
       "2                               Comedy|Romance       0          0          0   \n",
       "\n",
       "   children  comedy  crime  documentary     ...      noir  romance  scifi  \\\n",
       "0         1       1      0            0     ...         0        0      0   \n",
       "1         1       0      0            0     ...         0        0      0   \n",
       "2         0       1      0            0     ...         0        1      0   \n",
       "\n",
       "   thriller  war  western  decade  num_genres  avg_rating  num_rating  \n",
       "0         0    0        0    1990           5    3.921240         1.0  \n",
       "1         0    0        0    1990           3    3.211977         2.0  \n",
       "2         0    0        0    1990           2    3.151040         3.0  \n",
       "\n",
       "[3 rows x 28 columns]"
      ]
     },
     "execution_count": 112,
     "metadata": {},
     "output_type": "execute_result"
    }
   ],
   "source": [
    "df_n = pd.merge(df_n, df_ratings, \n",
    "                on = 'movieId',\n",
    "                how = 'left')\n",
    "df_n.head(3)"
   ]
  },
  {
   "cell_type": "code",
   "execution_count": 113,
   "metadata": {},
   "outputs": [
    {
     "data": {
      "text/html": [
       "<div>\n",
       "<style scoped>\n",
       "    .dataframe tbody tr th:only-of-type {\n",
       "        vertical-align: middle;\n",
       "    }\n",
       "\n",
       "    .dataframe tbody tr th {\n",
       "        vertical-align: top;\n",
       "    }\n",
       "\n",
       "    .dataframe thead th {\n",
       "        text-align: right;\n",
       "    }\n",
       "</style>\n",
       "<table border=\"1\" class=\"dataframe\">\n",
       "  <thead>\n",
       "    <tr style=\"text-align: right;\">\n",
       "      <th></th>\n",
       "      <th>movieId</th>\n",
       "      <th>title</th>\n",
       "      <th>genres</th>\n",
       "      <th>action</th>\n",
       "      <th>adventure</th>\n",
       "      <th>animation</th>\n",
       "      <th>children</th>\n",
       "      <th>comedy</th>\n",
       "      <th>crime</th>\n",
       "      <th>documentary</th>\n",
       "      <th>...</th>\n",
       "      <th>noir</th>\n",
       "      <th>romance</th>\n",
       "      <th>scifi</th>\n",
       "      <th>thriller</th>\n",
       "      <th>war</th>\n",
       "      <th>western</th>\n",
       "      <th>decade</th>\n",
       "      <th>num_genres</th>\n",
       "      <th>avg_rating</th>\n",
       "      <th>num_rating</th>\n",
       "    </tr>\n",
       "  </thead>\n",
       "  <tbody>\n",
       "    <tr>\n",
       "      <th>0</th>\n",
       "      <td>1</td>\n",
       "      <td>Toy Story (1995)</td>\n",
       "      <td>Adventure|Animation|Children|Comedy|Fantasy</td>\n",
       "      <td>0</td>\n",
       "      <td>1</td>\n",
       "      <td>1</td>\n",
       "      <td>1</td>\n",
       "      <td>1</td>\n",
       "      <td>0</td>\n",
       "      <td>0</td>\n",
       "      <td>...</td>\n",
       "      <td>0</td>\n",
       "      <td>0</td>\n",
       "      <td>0</td>\n",
       "      <td>0</td>\n",
       "      <td>0</td>\n",
       "      <td>0</td>\n",
       "      <td>1990</td>\n",
       "      <td>5</td>\n",
       "      <td>3.921240</td>\n",
       "      <td>1.0</td>\n",
       "    </tr>\n",
       "    <tr>\n",
       "      <th>1</th>\n",
       "      <td>2</td>\n",
       "      <td>Jumanji (1995)</td>\n",
       "      <td>Adventure|Children|Fantasy</td>\n",
       "      <td>0</td>\n",
       "      <td>1</td>\n",
       "      <td>0</td>\n",
       "      <td>1</td>\n",
       "      <td>0</td>\n",
       "      <td>0</td>\n",
       "      <td>0</td>\n",
       "      <td>...</td>\n",
       "      <td>0</td>\n",
       "      <td>0</td>\n",
       "      <td>0</td>\n",
       "      <td>0</td>\n",
       "      <td>0</td>\n",
       "      <td>0</td>\n",
       "      <td>1990</td>\n",
       "      <td>3</td>\n",
       "      <td>3.211977</td>\n",
       "      <td>2.0</td>\n",
       "    </tr>\n",
       "    <tr>\n",
       "      <th>2</th>\n",
       "      <td>3</td>\n",
       "      <td>Grumpier Old Men (1995)</td>\n",
       "      <td>Comedy|Romance</td>\n",
       "      <td>0</td>\n",
       "      <td>0</td>\n",
       "      <td>0</td>\n",
       "      <td>0</td>\n",
       "      <td>1</td>\n",
       "      <td>0</td>\n",
       "      <td>0</td>\n",
       "      <td>...</td>\n",
       "      <td>0</td>\n",
       "      <td>1</td>\n",
       "      <td>0</td>\n",
       "      <td>0</td>\n",
       "      <td>0</td>\n",
       "      <td>0</td>\n",
       "      <td>1990</td>\n",
       "      <td>2</td>\n",
       "      <td>3.151040</td>\n",
       "      <td>3.0</td>\n",
       "    </tr>\n",
       "  </tbody>\n",
       "</table>\n",
       "<p>3 rows × 28 columns</p>\n",
       "</div>"
      ],
      "text/plain": [
       "   movieId                    title  \\\n",
       "0        1         Toy Story (1995)   \n",
       "1        2           Jumanji (1995)   \n",
       "2        3  Grumpier Old Men (1995)   \n",
       "\n",
       "                                        genres  action  adventure  animation  \\\n",
       "0  Adventure|Animation|Children|Comedy|Fantasy       0          1          1   \n",
       "1                   Adventure|Children|Fantasy       0          1          0   \n",
       "2                               Comedy|Romance       0          0          0   \n",
       "\n",
       "   children  comedy  crime  documentary     ...      noir  romance  scifi  \\\n",
       "0         1       1      0            0     ...         0        0      0   \n",
       "1         1       0      0            0     ...         0        0      0   \n",
       "2         0       1      0            0     ...         0        1      0   \n",
       "\n",
       "   thriller  war  western  decade  num_genres  avg_rating  num_rating  \n",
       "0         0    0        0    1990           5    3.921240         1.0  \n",
       "1         0    0        0    1990           3    3.211977         2.0  \n",
       "2         0    0        0    1990           2    3.151040         3.0  \n",
       "\n",
       "[3 rows x 28 columns]"
      ]
     },
     "execution_count": 113,
     "metadata": {},
     "output_type": "execute_result"
    }
   ],
   "source": [
    "df_n.head(3)"
   ]
  },
  {
   "cell_type": "code",
   "execution_count": 114,
   "metadata": {},
   "outputs": [
    {
     "data": {
      "text/plain": [
       "movieId          0\n",
       "title            0\n",
       "genres           0\n",
       "action           0\n",
       "adventure        0\n",
       "animation        0\n",
       "children         0\n",
       "comedy           0\n",
       "crime            0\n",
       "documentary      0\n",
       "drama            0\n",
       "fantasy          0\n",
       "film             0\n",
       "horror           0\n",
       "imax             0\n",
       "musical          0\n",
       "mystery          0\n",
       "no_genres        0\n",
       "noir             0\n",
       "romance          0\n",
       "scifi            0\n",
       "thriller         0\n",
       "war              0\n",
       "western          0\n",
       "decade           0\n",
       "num_genres       0\n",
       "avg_rating     534\n",
       "num_rating     534\n",
       "dtype: int64"
      ]
     },
     "execution_count": 114,
     "metadata": {},
     "output_type": "execute_result"
    }
   ],
   "source": [
    "df_n.isnull().sum()"
   ]
  },
  {
   "cell_type": "code",
   "execution_count": 115,
   "metadata": {},
   "outputs": [],
   "source": [
    "# Since there are no rating for some on the movies I am going to fill them with zero\n",
    "df_n = df_n.fillna(0)"
   ]
  },
  {
   "cell_type": "markdown",
   "metadata": {},
   "source": [
    "#### Decade"
   ]
  },
  {
   "cell_type": "code",
   "execution_count": 117,
   "metadata": {},
   "outputs": [
    {
     "data": {
      "image/png": "[encoded data removed]",
      "text/plain": [
       "<Figure size 432x288 with 2 Axes>"
      ]
     },
     "metadata": {
      "needs_background": "light"
     },
     "output_type": "display_data"
    }
   ],
   "source": [
    "fig, ax1 = plt.subplots()\n",
    "ax1.hist(df_n['decade'])\n",
    "ax1.set_xlabel('Decade', fontsize = 14)\n",
    "ax1.set_ylabel('Number of Movies', color='b', fontsize = 13)\n",
    "\n",
    "ax2 = ax1.twinx()\n",
    "ax2.plot(df_n.groupby('decade').mean()['avg_rating'], 'r')\n",
    "ax2.set_ylabel('Average Movie Rating', color='r', fontsize = 13)\n",
    "\n",
    "\n",
    "ax1.set_title('Number of Movies and Avg Rating by Decade', fontsize = 15);"
   ]
  },
  {
   "cell_type": "code",
   "execution_count": 125,
   "metadata": {},
   "outputs": [
    {
     "data": {
      "image/png": "[encoded data removed]",
      "text/plain": [
       "<Figure size 432x288 with 2 Axes>"
      ]
     },
     "metadata": {
      "needs_background": "light"
     },
     "output_type": "display_data"
    }
   ],
   "source": [
    "fig, ax1 = plt.subplots()\n",
    "ax1.hist(df_n['num_genres'])\n",
    "ax1.set_xlabel('Number of Genres', fontsize = 14)\n",
    "ax1.set_ylabel('Number of Movies', color='b', fontsize = 13)\n",
    "\n",
    "ax2 = ax1.twinx()\n",
    "ax2.plot(df_n.groupby('num_genres').mean()['avg_rating'], 'r')\n",
    "ax2.set_ylabel('Average Movie Rating', color='r', fontsize = 13)\n",
    "\n",
    "\n",
    "ax1.set_title('Number of Genres and Avg Rating by Decade', fontsize = 15);"
   ]
  },
  {
   "cell_type": "markdown",
   "metadata": {},
   "source": [
    "    I would interpret the complexity of the movie/show based on the number of different genres are in the given movie. The rating does tend to increase with the increase of movie  genres, but the number of movies decreases as well."
   ]
  },
  {
   "cell_type": "code",
   "execution_count": 120,
   "metadata": {},
   "outputs": [
    {
     "data": {
      "image/png": "[encoded data removed]",
      "text/plain": [
       "<Figure size 432x288 with 1 Axes>"
      ]
     },
     "metadata": {
      "needs_background": "light"
     },
     "output_type": "display_data"
    }
   ],
   "source": [
    "plt.scatter(x = df_n['num_rating'], y = df_n['avg_rating'])\n",
    "\n",
    "z = np.polyfit(df_n['num_rating'], df_n['avg_rating'], 1)\n",
    "p = np.poly1d(z)\n",
    "plt.plot(df_n['num_rating'],p(df_n['num_rating']),\"r--\")\n",
    "plt.title('Number of Review vs Avg Rating');\n",
    "plt.ylabel('Avg Rating')\n",
    "plt.xlabel('Number of Reviews');"
   ]
  },
  {
   "cell_type": "code",
   "execution_count": null,
   "metadata": {},
   "outputs": [],
   "source": []
  },
  {
   "cell_type": "code",
   "execution_count": null,
   "metadata": {},
   "outputs": [],
   "source": []
  },
  {
   "cell_type": "markdown",
   "metadata": {},
   "source": [
    "    Majority of our movies were creates in the last decade."
   ]
  },
  {
   "cell_type": "markdown",
   "metadata": {},
   "source": [
    "#### Genres"
   ]
  },
  {
   "cell_type": "code",
   "execution_count": null,
   "metadata": {},
   "outputs": [],
   "source": []
  },
  {
   "cell_type": "code",
   "execution_count": 30,
   "metadata": {},
   "outputs": [],
   "source": [
    "genres = ['action',\n",
    "       'adventure', 'animation', 'children', 'comedy', 'crime', 'documentary',\n",
    "       'drama', 'fantasy', 'film', 'horror', 'imax', 'musical', 'mystery',\n",
    "       'no_genres', 'noir', 'romance', 'scifi', 'thriller', 'war', 'western']"
   ]
  },
  {
   "cell_type": "code",
   "execution_count": null,
   "metadata": {},
   "outputs": [],
   "source": []
  },
  {
   "cell_type": "code",
   "execution_count": null,
   "metadata": {},
   "outputs": [],
   "source": []
  },
  {
   "cell_type": "code",
   "execution_count": null,
   "metadata": {},
   "outputs": [],
   "source": []
  },
  {
   "cell_type": "code",
   "execution_count": null,
   "metadata": {},
   "outputs": [],
   "source": []
  },
  {
   "cell_type": "code",
   "execution_count": null,
   "metadata": {},
   "outputs": [],
   "source": []
  },
  {
   "cell_type": "code",
   "execution_count": null,
   "metadata": {},
   "outputs": [],
   "source": []
  },
  {
   "cell_type": "code",
   "execution_count": null,
   "metadata": {},
   "outputs": [],
   "source": []
  },
  {
   "cell_type": "code",
   "execution_count": null,
   "metadata": {},
   "outputs": [],
   "source": []
  },
  {
   "cell_type": "code",
   "execution_count": null,
   "metadata": {},
   "outputs": [],
   "source": []
  },
  {
   "cell_type": "code",
   "execution_count": null,
   "metadata": {},
   "outputs": [],
   "source": []
  },
  {
   "cell_type": "code",
   "execution_count": null,
   "metadata": {},
   "outputs": [],
   "source": []
  },
  {
   "cell_type": "markdown",
   "metadata": {},
   "source": [
    "## PCA Segementation"
   ]
  },
  {
   "cell_type": "code",
   "execution_count": 62,
   "metadata": {},
   "outputs": [],
   "source": [
    "# Cleanup to prepare for PCA transformation\n",
    "df = df.fillna(0)"
   ]
  },
  {
   "cell_type": "code",
   "execution_count": 67,
   "metadata": {},
   "outputs": [],
   "source": [
    "# Initiating PCA and tranforming the data\n",
    "pca = PCA()\n",
    "pca.fit(X)\n",
    "\n",
    "X_pca = pca.transform(X)\n",
    "X_pca = pd.DataFrame(X_pca)"
   ]
  },
  {
   "cell_type": "code",
   "execution_count": 68,
   "metadata": {},
   "outputs": [
    {
     "data": {
      "text/plain": [
       "(27278, 1174)"
      ]
     },
     "execution_count": 68,
     "metadata": {},
     "output_type": "execute_result"
    }
   ],
   "source": [
    "X_pca.shape"
   ]
  },
  {
   "cell_type": "code",
   "execution_count": 81,
   "metadata": {},
   "outputs": [],
   "source": [
    "# Creating column names for the PCA dataframe\n",
    "X_pca.columns = [f'component {i}' for i in range(1,1175)]"
   ]
  },
  {
   "cell_type": "code",
   "execution_count": 90,
   "metadata": {},
   "outputs": [
    {
     "data": {
      "text/html": [
       "<div>\n",
       "<style scoped>\n",
       "    .dataframe tbody tr th:only-of-type {\n",
       "        vertical-align: middle;\n",
       "    }\n",
       "\n",
       "    .dataframe tbody tr th {\n",
       "        vertical-align: top;\n",
       "    }\n",
       "\n",
       "    .dataframe thead th {\n",
       "        text-align: right;\n",
       "    }\n",
       "</style>\n",
       "<table border=\"1\" class=\"dataframe\">\n",
       "  <thead>\n",
       "    <tr style=\"text-align: right;\">\n",
       "      <th></th>\n",
       "      <th>component 1</th>\n",
       "      <th>component 2</th>\n",
       "      <th>component 3</th>\n",
       "      <th>component 4</th>\n",
       "      <th>component 5</th>\n",
       "      <th>component 6</th>\n",
       "      <th>component 7</th>\n",
       "      <th>component 8</th>\n",
       "      <th>component 9</th>\n",
       "      <th>component 10</th>\n",
       "      <th>...</th>\n",
       "      <th>component 1165</th>\n",
       "      <th>component 1166</th>\n",
       "      <th>component 1167</th>\n",
       "      <th>component 1168</th>\n",
       "      <th>component 1169</th>\n",
       "      <th>component 1170</th>\n",
       "      <th>component 1171</th>\n",
       "      <th>component 1172</th>\n",
       "      <th>component 1173</th>\n",
       "      <th>component 1174</th>\n",
       "    </tr>\n",
       "  </thead>\n",
       "  <tbody>\n",
       "    <tr>\n",
       "      <th>0</th>\n",
       "      <td>38.846939</td>\n",
       "      <td>13.084277</td>\n",
       "      <td>21.125732</td>\n",
       "      <td>3.987790</td>\n",
       "      <td>18.415075</td>\n",
       "      <td>-16.304045</td>\n",
       "      <td>20.292477</td>\n",
       "      <td>8.298063</td>\n",
       "      <td>15.370857</td>\n",
       "      <td>-5.206831</td>\n",
       "      <td>...</td>\n",
       "      <td>0.108218</td>\n",
       "      <td>-0.033536</td>\n",
       "      <td>0.289425</td>\n",
       "      <td>0.094282</td>\n",
       "      <td>-0.073825</td>\n",
       "      <td>-0.133972</td>\n",
       "      <td>-2.096444e-15</td>\n",
       "      <td>1.211325e-14</td>\n",
       "      <td>-1.203317e-14</td>\n",
       "      <td>-2.259905e-15</td>\n",
       "    </tr>\n",
       "    <tr>\n",
       "      <th>1</th>\n",
       "      <td>25.782299</td>\n",
       "      <td>23.586146</td>\n",
       "      <td>10.623394</td>\n",
       "      <td>2.243438</td>\n",
       "      <td>8.905058</td>\n",
       "      <td>-8.422076</td>\n",
       "      <td>7.017851</td>\n",
       "      <td>-2.349842</td>\n",
       "      <td>9.129740</td>\n",
       "      <td>1.124613</td>\n",
       "      <td>...</td>\n",
       "      <td>-0.343197</td>\n",
       "      <td>0.322584</td>\n",
       "      <td>0.193342</td>\n",
       "      <td>0.029816</td>\n",
       "      <td>-0.025943</td>\n",
       "      <td>-0.059271</td>\n",
       "      <td>-3.177327e-15</td>\n",
       "      <td>-6.215169e-15</td>\n",
       "      <td>-7.013836e-15</td>\n",
       "      <td>-1.988121e-15</td>\n",
       "    </tr>\n",
       "    <tr>\n",
       "      <th>2</th>\n",
       "      <td>15.922066</td>\n",
       "      <td>8.471113</td>\n",
       "      <td>4.261766</td>\n",
       "      <td>-5.970393</td>\n",
       "      <td>0.077786</td>\n",
       "      <td>0.833235</td>\n",
       "      <td>2.624947</td>\n",
       "      <td>-1.170145</td>\n",
       "      <td>-0.901025</td>\n",
       "      <td>-1.526715</td>\n",
       "      <td>...</td>\n",
       "      <td>0.170828</td>\n",
       "      <td>-0.008407</td>\n",
       "      <td>0.031701</td>\n",
       "      <td>-0.101071</td>\n",
       "      <td>0.021331</td>\n",
       "      <td>0.159106</td>\n",
       "      <td>-3.453792e-16</td>\n",
       "      <td>2.297060e-15</td>\n",
       "      <td>-4.521980e-15</td>\n",
       "      <td>1.655251e-15</td>\n",
       "    </tr>\n",
       "  </tbody>\n",
       "</table>\n",
       "<p>3 rows × 1174 columns</p>\n",
       "</div>"
      ],
      "text/plain": [
       "   component 1  component 2  component 3  component 4  component 5  \\\n",
       "0    38.846939    13.084277    21.125732     3.987790    18.415075   \n",
       "1    25.782299    23.586146    10.623394     2.243438     8.905058   \n",
       "2    15.922066     8.471113     4.261766    -5.970393     0.077786   \n",
       "\n",
       "   component 6  component 7  component 8  component 9  component 10  \\\n",
       "0   -16.304045    20.292477     8.298063    15.370857     -5.206831   \n",
       "1    -8.422076     7.017851    -2.349842     9.129740      1.124613   \n",
       "2     0.833235     2.624947    -1.170145    -0.901025     -1.526715   \n",
       "\n",
       "        ...        component 1165  component 1166  component 1167  \\\n",
       "0       ...              0.108218       -0.033536        0.289425   \n",
       "1       ...             -0.343197        0.322584        0.193342   \n",
       "2       ...              0.170828       -0.008407        0.031701   \n",
       "\n",
       "   component 1168  component 1169  component 1170  component 1171  \\\n",
       "0        0.094282       -0.073825       -0.133972   -2.096444e-15   \n",
       "1        0.029816       -0.025943       -0.059271   -3.177327e-15   \n",
       "2       -0.101071        0.021331        0.159106   -3.453792e-16   \n",
       "\n",
       "   component 1172  component 1173  component 1174  \n",
       "0    1.211325e-14   -1.203317e-14   -2.259905e-15  \n",
       "1   -6.215169e-15   -7.013836e-15   -1.988121e-15  \n",
       "2    2.297060e-15   -4.521980e-15    1.655251e-15  \n",
       "\n",
       "[3 rows x 1174 columns]"
      ]
     },
     "execution_count": 90,
     "metadata": {},
     "output_type": "execute_result"
    }
   ],
   "source": [
    "X_pca.head(3)"
   ]
  },
  {
   "cell_type": "code",
   "execution_count": 85,
   "metadata": {},
   "outputs": [],
   "source": [
    "# Creating a dataframe to take a deeper dive into the PCA components\n",
    "components = pd.DataFrame(pca.components_,\n",
    "            columns=df.columns,\n",
    "            index=[f'component {i}' for i in range(1,1175)])"
   ]
  },
  {
   "cell_type": "code",
   "execution_count": 86,
   "metadata": {},
   "outputs": [
    {
     "data": {
      "text/html": [
       "<div>\n",
       "<style scoped>\n",
       "    .dataframe tbody tr th:only-of-type {\n",
       "        vertical-align: middle;\n",
       "    }\n",
       "\n",
       "    .dataframe tbody tr th {\n",
       "        vertical-align: top;\n",
       "    }\n",
       "\n",
       "    .dataframe thead th {\n",
       "        text-align: right;\n",
       "    }\n",
       "</style>\n",
       "<table border=\"1\" class=\"dataframe\">\n",
       "  <thead>\n",
       "    <tr style=\"text-align: right;\">\n",
       "      <th></th>\n",
       "      <th>decade_1890</th>\n",
       "      <th>decade_1900</th>\n",
       "      <th>decade_1910</th>\n",
       "      <th>decade_1920</th>\n",
       "      <th>decade_1930</th>\n",
       "      <th>decade_1940</th>\n",
       "      <th>decade_1950</th>\n",
       "      <th>decade_1960</th>\n",
       "      <th>decade_1970</th>\n",
       "      <th>decade_1980</th>\n",
       "      <th>...</th>\n",
       "      <th>world politics</th>\n",
       "      <th>world war i</th>\n",
       "      <th>world war ii</th>\n",
       "      <th>writer's life</th>\n",
       "      <th>writers</th>\n",
       "      <th>writing</th>\n",
       "      <th>wuxia</th>\n",
       "      <th>wwii</th>\n",
       "      <th>zombie</th>\n",
       "      <th>zombies</th>\n",
       "    </tr>\n",
       "  </thead>\n",
       "  <tbody>\n",
       "    <tr>\n",
       "      <th>component 1</th>\n",
       "      <td>-0.000849</td>\n",
       "      <td>-0.000351</td>\n",
       "      <td>-0.001902</td>\n",
       "      <td>-0.002337</td>\n",
       "      <td>-0.003647</td>\n",
       "      <td>-0.002369</td>\n",
       "      <td>-0.002034</td>\n",
       "      <td>-0.001695</td>\n",
       "      <td>-0.001537</td>\n",
       "      <td>0.004797</td>\n",
       "      <td>...</td>\n",
       "      <td>0.027669</td>\n",
       "      <td>0.022429</td>\n",
       "      <td>0.015799</td>\n",
       "      <td>0.029681</td>\n",
       "      <td>0.040544</td>\n",
       "      <td>0.033587</td>\n",
       "      <td>0.021242</td>\n",
       "      <td>0.014611</td>\n",
       "      <td>0.029747</td>\n",
       "      <td>0.013528</td>\n",
       "    </tr>\n",
       "    <tr>\n",
       "      <th>component 2</th>\n",
       "      <td>-0.000272</td>\n",
       "      <td>-0.000402</td>\n",
       "      <td>-0.001094</td>\n",
       "      <td>-0.004218</td>\n",
       "      <td>-0.006871</td>\n",
       "      <td>-0.009012</td>\n",
       "      <td>-0.008813</td>\n",
       "      <td>-0.009042</td>\n",
       "      <td>-0.006492</td>\n",
       "      <td>0.009486</td>\n",
       "      <td>...</td>\n",
       "      <td>-0.024428</td>\n",
       "      <td>-0.024848</td>\n",
       "      <td>-0.020313</td>\n",
       "      <td>-0.039233</td>\n",
       "      <td>0.003408</td>\n",
       "      <td>-0.016736</td>\n",
       "      <td>-0.000228</td>\n",
       "      <td>-0.020535</td>\n",
       "      <td>0.033264</td>\n",
       "      <td>0.014104</td>\n",
       "    </tr>\n",
       "    <tr>\n",
       "      <th>component 3</th>\n",
       "      <td>0.000075</td>\n",
       "      <td>-0.000192</td>\n",
       "      <td>0.000663</td>\n",
       "      <td>0.000637</td>\n",
       "      <td>0.005592</td>\n",
       "      <td>0.008254</td>\n",
       "      <td>0.007915</td>\n",
       "      <td>0.004249</td>\n",
       "      <td>-0.006953</td>\n",
       "      <td>-0.007179</td>\n",
       "      <td>...</td>\n",
       "      <td>0.044527</td>\n",
       "      <td>0.058854</td>\n",
       "      <td>0.057809</td>\n",
       "      <td>-0.017088</td>\n",
       "      <td>-0.025029</td>\n",
       "      <td>-0.014444</td>\n",
       "      <td>-0.013105</td>\n",
       "      <td>0.061695</td>\n",
       "      <td>-0.056647</td>\n",
       "      <td>-0.038300</td>\n",
       "    </tr>\n",
       "  </tbody>\n",
       "</table>\n",
       "<p>3 rows × 1174 columns</p>\n",
       "</div>"
      ],
      "text/plain": [
       "             decade_1890  decade_1900  decade_1910  decade_1920  decade_1930  \\\n",
       "component 1    -0.000849    -0.000351    -0.001902    -0.002337    -0.003647   \n",
       "component 2    -0.000272    -0.000402    -0.001094    -0.004218    -0.006871   \n",
       "component 3     0.000075    -0.000192     0.000663     0.000637     0.005592   \n",
       "\n",
       "             decade_1940  decade_1950  decade_1960  decade_1970  decade_1980  \\\n",
       "component 1    -0.002369    -0.002034    -0.001695    -0.001537     0.004797   \n",
       "component 2    -0.009012    -0.008813    -0.009042    -0.006492     0.009486   \n",
       "component 3     0.008254     0.007915     0.004249    -0.006953    -0.007179   \n",
       "\n",
       "               ...     world politics  world war i  world war ii  \\\n",
       "component 1    ...           0.027669     0.022429      0.015799   \n",
       "component 2    ...          -0.024428    -0.024848     -0.020313   \n",
       "component 3    ...           0.044527     0.058854      0.057809   \n",
       "\n",
       "             writer's life   writers   writing     wuxia      wwii    zombie  \\\n",
       "component 1       0.029681  0.040544  0.033587  0.021242  0.014611  0.029747   \n",
       "component 2      -0.039233  0.003408 -0.016736 -0.000228 -0.020535  0.033264   \n",
       "component 3      -0.017088 -0.025029 -0.014444 -0.013105  0.061695 -0.056647   \n",
       "\n",
       "              zombies  \n",
       "component 1  0.013528  \n",
       "component 2  0.014104  \n",
       "component 3 -0.038300  \n",
       "\n",
       "[3 rows x 1174 columns]"
      ]
     },
     "execution_count": 86,
     "metadata": {},
     "output_type": "execute_result"
    }
   ],
   "source": [
    "components.head(3)"
   ]
  },
  {
   "cell_type": "code",
   "execution_count": 92,
   "metadata": {},
   "outputs": [
    {
     "data": {
      "text/plain": [
       "<matplotlib.axes._subplots.AxesSubplot at 0x12c948860>"
      ]
     },
     "execution_count": 92,
     "metadata": {},
     "output_type": "execute_result"
    },
    {
     "data": {
      "image/png": "[encoded data removed]",
      "text/plain": [
       "<Figure size 432x288 with 1 Axes>"
      ]
     },
     "metadata": {
      "needs_background": "light"
     },
     "output_type": "display_data"
    }
   ],
   "source": [
    "# Checking the number of components that help explain the variability in our data\n",
    "var_exp = pca.explained_variance_ratio_\n",
    "cum_var_exp = np.cumsum(var_exp)\n",
    "cum_var_exp_df = pd.DataFrame(cum_var_exp)\n",
    "cum_var_exp_df[:100].plot()"
   ]
  },
  {
   "cell_type": "code",
   "execution_count": 93,
   "metadata": {},
   "outputs": [
    {
     "data": {
      "text/plain": [
       "<matplotlib.axes._subplots.AxesSubplot at 0x13aca2a58>"
      ]
     },
     "execution_count": 93,
     "metadata": {},
     "output_type": "execute_result"
    },
    {
     "data": {
      "image/png": "[encoded data removed]",
      "text/plain": [
       "<Figure size 432x288 with 1 Axes>"
      ]
     },
     "metadata": {
      "needs_background": "light"
     },
     "output_type": "display_data"
    }
   ],
   "source": [
    "cum_var_exp_df[:10].plot() "
   ]
  },
  {
   "cell_type": "markdown",
   "metadata": {},
   "source": [
    "    The first 8 components help explain ~50% of the variability in our data, I want to find out more about these categories"
   ]
  },
  {
   "cell_type": "code",
   "execution_count": 143,
   "metadata": {},
   "outputs": [],
   "source": [
    "# Create a function to take in a PCA component dataframe and graph out its components \n",
    "# and check the top and bottom features of that component\n",
    "def plotting_components(components, num_components, num_of_elements ):\n",
    "    fig, ax = plt.subplots(nrows=num_components, ncols=1, figsize = (12, num_components* 8))\n",
    "    ax = ax.ravel() \n",
    "    for i in range(1,num_components+1):\n",
    "        ax[i-1].barh(\n",
    "            components[components.index == f'component {i}'].T.sort_values(by= f'component {i}').head(num_of_elements).sort_values(by= f'component {i}').index,\n",
    "            components[components.index == f'component {i}'].T.sort_values(by= f'component {i}').head(num_of_elements).sort_values(by= f'component {i}')[f'component {i}'])\n",
    "        ax[i-1].barh(\n",
    "             components[components.index == f'component {i}'].T.sort_values(by= f'component {i}', ascending = False).head(num_of_elements).sort_values(by= f'component {i}').index,\n",
    "             components[components.index == f'component {i}'].T.sort_values(by= f'component {i}', ascending = False).head(num_of_elements).sort_values(by= f'component {i}')[f'component {i}'])\n",
    "        ax[i-1].set_title(f'Component {i}')\n",
    "\n",
    "\n",
    "\n",
    "\n",
    "\n",
    "\n"
   ]
  },
  {
   "cell_type": "code",
   "execution_count": 144,
   "metadata": {},
   "outputs": [
    {
     "data": {
      "image/png": "[encoded data removed]",
      "text/plain": [
       "<Figure size 864x4608 with 8 Axes>"
      ]
     },
     "metadata": {
      "needs_background": "light"
     },
     "output_type": "display_data"
    }
   ],
   "source": [
    "# Graphing top 5 and bottom 5 strongest features of top 8 components \n",
    "plotting_components(components, 8, 5)"
   ]
  },
  {
   "cell_type": "markdown",
   "metadata": {},
   "source": [
    "## t-SNE visualization"
   ]
  },
  {
   "cell_type": "code",
   "execution_count": null,
   "metadata": {},
   "outputs": [],
   "source": []
  },
  {
   "cell_type": "code",
   "execution_count": null,
   "metadata": {},
   "outputs": [],
   "source": []
  },
  {
   "cell_type": "code",
   "execution_count": null,
   "metadata": {},
   "outputs": [],
   "source": []
  },
  {
   "cell_type": "code",
   "execution_count": null,
   "metadata": {},
   "outputs": [],
   "source": []
  },
  {
   "cell_type": "code",
   "execution_count": null,
   "metadata": {},
   "outputs": [],
   "source": []
  },
  {
   "cell_type": "code",
   "execution_count": null,
   "metadata": {},
   "outputs": [],
   "source": []
  }
 ],
 "metadata": {
  "kernelspec": {
   "display_name": "Python 3",
   "language": "python",
   "name": "python3"
  },
  "language_info": {
   "codemirror_mode": {
    "name": "ipython",
    "version": 3
   },
   "file_extension": ".py",
   "mimetype": "text/x-python",
   "name": "python",
   "nbconvert_exporter": "python",
   "pygments_lexer": "ipython3",
   "version": "3.6.6"
  }
 },
 "nbformat": 4,
 "nbformat_minor": 2
}
